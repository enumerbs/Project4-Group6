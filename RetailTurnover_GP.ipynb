{
 "cells": [
  {
   "cell_type": "code",
   "execution_count": 12,
   "id": "c6550ac7",
   "metadata": {},
   "outputs": [],
   "source": [
    "# Ignore warning messages\n",
    "import warnings\n",
    "warnings.filterwarnings('ignore')"
   ]
  },
  {
   "cell_type": "code",
   "execution_count": 13,
   "id": "986e147c",
   "metadata": {},
   "outputs": [],
   "source": [
    "# Import dependencies\n",
    "import numpy as np\n",
    "import pandas as pd\n",
    "import sqlite3\n",
    "import matplotlib.pyplot as plt\n",
    "import matplotlib.dates as mdates\n",
    "\n",
    "from sklearn.preprocessing import MinMaxScaler\n",
    "from sklearn.metrics import mean_squared_error, r2_score\n",
    "\n",
    "# Models\n",
    "from statsmodels.tsa.statespace.sarimax import SARIMAX\n",
    "from statsmodels.tsa.arima.model import ARIMA\n",
    "from neuralprophet import NeuralProphet\n"
   ]
  },
  {
   "cell_type": "code",
   "execution_count": 14,
   "id": "fb2409e4",
   "metadata": {},
   "outputs": [
    {
     "data": {
      "text/html": [
       "<div>\n",
       "<style scoped>\n",
       "    .dataframe tbody tr th:only-of-type {\n",
       "        vertical-align: middle;\n",
       "    }\n",
       "\n",
       "    .dataframe tbody tr th {\n",
       "        vertical-align: top;\n",
       "    }\n",
       "\n",
       "    .dataframe thead th {\n",
       "        text-align: right;\n",
       "    }\n",
       "</style>\n",
       "<table border=\"1\" class=\"dataframe\">\n",
       "  <thead>\n",
       "    <tr style=\"text-align: right;\">\n",
       "      <th></th>\n",
       "      <th>RecordDate</th>\n",
       "      <th>Original__Turnover_FoodRetailing</th>\n",
       "      <th>Original__Turnover_HouseholdGoodsRetailing</th>\n",
       "      <th>Original__Turnover_ClothingFootwearAndPersonalAccessoryRetailing</th>\n",
       "      <th>Original__Turnover_DepartmentStores</th>\n",
       "      <th>Original__Turnover_OtherRetailing</th>\n",
       "      <th>Original__Turnover_CafesRestaurantsAndTakeawayFoodServices</th>\n",
       "      <th>Original__Turnover_TotalIndustry</th>\n",
       "      <th>SeasonallyAdjusted__Turnover_FoodRetailing</th>\n",
       "      <th>SeasonallyAdjusted__Turnover_HouseholdGoodsRetailing</th>\n",
       "      <th>...</th>\n",
       "      <th>SeasonallyAdjusted__Turnover_OtherRetailing</th>\n",
       "      <th>SeasonallyAdjusted__Turnover_CafesRestaurantsAndTakeawayFoodServices</th>\n",
       "      <th>SeasonallyAdjusted__Turnover_TotalIndustry</th>\n",
       "      <th>Trend__Turnover_FoodRetailing</th>\n",
       "      <th>Trend__Turnover_HouseholdGoodsRetailing</th>\n",
       "      <th>Trend__Turnover_ClothingFootwearAndPersonalAccessoryRetailing</th>\n",
       "      <th>Trend__Turnover_DepartmentStores</th>\n",
       "      <th>Trend__Turnover_OtherRetailing</th>\n",
       "      <th>Trend__Turnover_CafesRestaurantsAndTakeawayFoodServices</th>\n",
       "      <th>Trend__Turnover_TotalIndustry</th>\n",
       "    </tr>\n",
       "  </thead>\n",
       "  <tbody>\n",
       "    <tr>\n",
       "      <th>0</th>\n",
       "      <td>1982-04-01</td>\n",
       "      <td>1162.6</td>\n",
       "      <td>592.3</td>\n",
       "      <td>359.9</td>\n",
       "      <td>460.1</td>\n",
       "      <td>479.1</td>\n",
       "      <td>342.4</td>\n",
       "      <td>3396.4</td>\n",
       "      <td>1167.1</td>\n",
       "      <td>653.4</td>\n",
       "      <td>...</td>\n",
       "      <td>507.9</td>\n",
       "      <td>349.8</td>\n",
       "      <td>3518.7</td>\n",
       "      <td>1173.2</td>\n",
       "      <td>652.9</td>\n",
       "      <td>362.7</td>\n",
       "      <td>482.4</td>\n",
       "      <td>505.1</td>\n",
       "      <td>347.6</td>\n",
       "      <td>3523.4</td>\n",
       "    </tr>\n",
       "    <tr>\n",
       "      <th>1</th>\n",
       "      <td>1982-05-01</td>\n",
       "      <td>1150.9</td>\n",
       "      <td>629.6</td>\n",
       "      <td>386.6</td>\n",
       "      <td>502.6</td>\n",
       "      <td>486.1</td>\n",
       "      <td>342.1</td>\n",
       "      <td>3497.9</td>\n",
       "      <td>1178.6</td>\n",
       "      <td>648.7</td>\n",
       "      <td>...</td>\n",
       "      <td>502.3</td>\n",
       "      <td>346.3</td>\n",
       "      <td>3527.6</td>\n",
       "      <td>1181.7</td>\n",
       "      <td>654.1</td>\n",
       "      <td>362.0</td>\n",
       "      <td>484.2</td>\n",
       "      <td>504.9</td>\n",
       "      <td>346.3</td>\n",
       "      <td>3533.6</td>\n",
       "    </tr>\n",
       "    <tr>\n",
       "      <th>2</th>\n",
       "      <td>1982-06-01</td>\n",
       "      <td>1160.0</td>\n",
       "      <td>607.4</td>\n",
       "      <td>350.5</td>\n",
       "      <td>443.8</td>\n",
       "      <td>467.5</td>\n",
       "      <td>328.7</td>\n",
       "      <td>3357.8</td>\n",
       "      <td>1203.7</td>\n",
       "      <td>655.7</td>\n",
       "      <td>...</td>\n",
       "      <td>506.9</td>\n",
       "      <td>350.8</td>\n",
       "      <td>3561.5</td>\n",
       "      <td>1192.7</td>\n",
       "      <td>655.6</td>\n",
       "      <td>361.9</td>\n",
       "      <td>486.4</td>\n",
       "      <td>504.7</td>\n",
       "      <td>345.9</td>\n",
       "      <td>3547.0</td>\n",
       "    </tr>\n",
       "    <tr>\n",
       "      <th>3</th>\n",
       "      <td>1982-07-01</td>\n",
       "      <td>1206.4</td>\n",
       "      <td>632.4</td>\n",
       "      <td>359.3</td>\n",
       "      <td>459.1</td>\n",
       "      <td>491.1</td>\n",
       "      <td>338.5</td>\n",
       "      <td>3486.8</td>\n",
       "      <td>1209.8</td>\n",
       "      <td>660.4</td>\n",
       "      <td>...</td>\n",
       "      <td>503.7</td>\n",
       "      <td>341.5</td>\n",
       "      <td>3553.9</td>\n",
       "      <td>1203.2</td>\n",
       "      <td>656.6</td>\n",
       "      <td>361.6</td>\n",
       "      <td>488.6</td>\n",
       "      <td>505.4</td>\n",
       "      <td>345.4</td>\n",
       "      <td>3560.6</td>\n",
       "    </tr>\n",
       "    <tr>\n",
       "      <th>4</th>\n",
       "      <td>1982-08-01</td>\n",
       "      <td>1152.5</td>\n",
       "      <td>622.6</td>\n",
       "      <td>325.2</td>\n",
       "      <td>438.4</td>\n",
       "      <td>485.7</td>\n",
       "      <td>331.5</td>\n",
       "      <td>3355.9</td>\n",
       "      <td>1198.7</td>\n",
       "      <td>659.8</td>\n",
       "      <td>...</td>\n",
       "      <td>506.0</td>\n",
       "      <td>342.7</td>\n",
       "      <td>3581.8</td>\n",
       "      <td>1213.5</td>\n",
       "      <td>656.5</td>\n",
       "      <td>361.9</td>\n",
       "      <td>489.8</td>\n",
       "      <td>505.6</td>\n",
       "      <td>346.4</td>\n",
       "      <td>3573.6</td>\n",
       "    </tr>\n",
       "  </tbody>\n",
       "</table>\n",
       "<p>5 rows × 22 columns</p>\n",
       "</div>"
      ],
      "text/plain": [
       "   RecordDate  Original__Turnover_FoodRetailing  \\\n",
       "0  1982-04-01                            1162.6   \n",
       "1  1982-05-01                            1150.9   \n",
       "2  1982-06-01                            1160.0   \n",
       "3  1982-07-01                            1206.4   \n",
       "4  1982-08-01                            1152.5   \n",
       "\n",
       "   Original__Turnover_HouseholdGoodsRetailing  \\\n",
       "0                                       592.3   \n",
       "1                                       629.6   \n",
       "2                                       607.4   \n",
       "3                                       632.4   \n",
       "4                                       622.6   \n",
       "\n",
       "   Original__Turnover_ClothingFootwearAndPersonalAccessoryRetailing  \\\n",
       "0                                              359.9                  \n",
       "1                                              386.6                  \n",
       "2                                              350.5                  \n",
       "3                                              359.3                  \n",
       "4                                              325.2                  \n",
       "\n",
       "   Original__Turnover_DepartmentStores  Original__Turnover_OtherRetailing  \\\n",
       "0                                460.1                              479.1   \n",
       "1                                502.6                              486.1   \n",
       "2                                443.8                              467.5   \n",
       "3                                459.1                              491.1   \n",
       "4                                438.4                              485.7   \n",
       "\n",
       "   Original__Turnover_CafesRestaurantsAndTakeawayFoodServices  \\\n",
       "0                                              342.4            \n",
       "1                                              342.1            \n",
       "2                                              328.7            \n",
       "3                                              338.5            \n",
       "4                                              331.5            \n",
       "\n",
       "   Original__Turnover_TotalIndustry  \\\n",
       "0                            3396.4   \n",
       "1                            3497.9   \n",
       "2                            3357.8   \n",
       "3                            3486.8   \n",
       "4                            3355.9   \n",
       "\n",
       "   SeasonallyAdjusted__Turnover_FoodRetailing  \\\n",
       "0                                      1167.1   \n",
       "1                                      1178.6   \n",
       "2                                      1203.7   \n",
       "3                                      1209.8   \n",
       "4                                      1198.7   \n",
       "\n",
       "   SeasonallyAdjusted__Turnover_HouseholdGoodsRetailing  ...  \\\n",
       "0                                              653.4     ...   \n",
       "1                                              648.7     ...   \n",
       "2                                              655.7     ...   \n",
       "3                                              660.4     ...   \n",
       "4                                              659.8     ...   \n",
       "\n",
       "   SeasonallyAdjusted__Turnover_OtherRetailing  \\\n",
       "0                                        507.9   \n",
       "1                                        502.3   \n",
       "2                                        506.9   \n",
       "3                                        503.7   \n",
       "4                                        506.0   \n",
       "\n",
       "   SeasonallyAdjusted__Turnover_CafesRestaurantsAndTakeawayFoodServices  \\\n",
       "0                                              349.8                      \n",
       "1                                              346.3                      \n",
       "2                                              350.8                      \n",
       "3                                              341.5                      \n",
       "4                                              342.7                      \n",
       "\n",
       "   SeasonallyAdjusted__Turnover_TotalIndustry  Trend__Turnover_FoodRetailing  \\\n",
       "0                                      3518.7                         1173.2   \n",
       "1                                      3527.6                         1181.7   \n",
       "2                                      3561.5                         1192.7   \n",
       "3                                      3553.9                         1203.2   \n",
       "4                                      3581.8                         1213.5   \n",
       "\n",
       "   Trend__Turnover_HouseholdGoodsRetailing  \\\n",
       "0                                    652.9   \n",
       "1                                    654.1   \n",
       "2                                    655.6   \n",
       "3                                    656.6   \n",
       "4                                    656.5   \n",
       "\n",
       "  Trend__Turnover_ClothingFootwearAndPersonalAccessoryRetailing  \\\n",
       "0                                              362.7              \n",
       "1                                              362.0              \n",
       "2                                              361.9              \n",
       "3                                              361.6              \n",
       "4                                              361.9              \n",
       "\n",
       "  Trend__Turnover_DepartmentStores Trend__Turnover_OtherRetailing  \\\n",
       "0                            482.4                          505.1   \n",
       "1                            484.2                          504.9   \n",
       "2                            486.4                          504.7   \n",
       "3                            488.6                          505.4   \n",
       "4                            489.8                          505.6   \n",
       "\n",
       "  Trend__Turnover_CafesRestaurantsAndTakeawayFoodServices  \\\n",
       "0                                              347.6        \n",
       "1                                              346.3        \n",
       "2                                              345.9        \n",
       "3                                              345.4        \n",
       "4                                              346.4        \n",
       "\n",
       "  Trend__Turnover_TotalIndustry  \n",
       "0                        3523.4  \n",
       "1                        3533.6  \n",
       "2                        3547.0  \n",
       "3                        3560.6  \n",
       "4                        3573.6  \n",
       "\n",
       "[5 rows x 22 columns]"
      ]
     },
     "execution_count": 14,
     "metadata": {},
     "output_type": "execute_result"
    }
   ],
   "source": [
    "# Read the Retail Turnover data\n",
    "\n",
    "# Query the SQL database table populated with the data from:\n",
    "# Table 1. Retail turnover, by industry group\n",
    "# https://www.abs.gov.au/statistics/industry/retail-and-wholesale-trade/retail-trade-australia/latest-release#data-downloads\n",
    "con = sqlite3.connect(\"db/ABS_RetailTurnover.db\")\n",
    "turnover_df = pd.read_sql_query(\"SELECT * from RetailTurnoverByIndustryGroup\", con)\n",
    "con.close()\n",
    "\n",
    "turnover_df.head()"
   ]
  },
  {
   "cell_type": "code",
   "execution_count": 15,
   "id": "ad73ccf6",
   "metadata": {},
   "outputs": [
    {
     "data": {
      "text/plain": [
       "(509, 22)"
      ]
     },
     "execution_count": 15,
     "metadata": {},
     "output_type": "execute_result"
    }
   ],
   "source": [
    "# Review the dataframe size to check the data was retrieved correctly \n",
    "turnover_df.shape"
   ]
  },
  {
   "cell_type": "code",
   "execution_count": 16,
   "id": "a062fd2a",
   "metadata": {},
   "outputs": [
    {
     "data": {
      "text/plain": [
       "['Food',\n",
       " 'Household_Goods',\n",
       " 'Clothing_and_Footware',\n",
       " 'Department_Stores',\n",
       " 'Other_Retailing',\n",
       " 'Cafes_Restaurants_TakeAway']"
      ]
     },
     "execution_count": 16,
     "metadata": {},
     "output_type": "execute_result"
    }
   ],
   "source": [
    "# Define shorter names for the Retail Turnover categories\n",
    "turnover_categories = ['Food', 'Household_Goods', 'Clothing_and_Footware', 'Department_Stores', \n",
    "                       'Other_Retailing', 'Cafes_Restaurants_TakeAway']\n",
    "turnover_categories"
   ]
  },
  {
   "cell_type": "code",
   "execution_count": 17,
   "id": "dc5f6e73",
   "metadata": {},
   "outputs": [],
   "source": [
    "# Focus on the Seasonally Adjusted Retail Turnover data\n",
    "sa_turnover_df = turnover_df.iloc[0:, np.r_[0, 8:14]]\n",
    "sa_turnover_df.columns = ['Year-Month'] + turnover_categories\n"
   ]
  },
  {
   "cell_type": "code",
   "execution_count": 18,
   "id": "fcecac6c",
   "metadata": {},
   "outputs": [],
   "source": [
    "# Convert datetime values from string to datetime type\n",
    "sa_turnover_df['Year-Month'] = pd.to_datetime(sa_turnover_df['Year-Month'])\n"
   ]
  },
  {
   "cell_type": "code",
   "execution_count": 19,
   "id": "6502eb24",
   "metadata": {},
   "outputs": [
    {
     "data": {
      "text/html": [
       "<div>\n",
       "<style scoped>\n",
       "    .dataframe tbody tr th:only-of-type {\n",
       "        vertical-align: middle;\n",
       "    }\n",
       "\n",
       "    .dataframe tbody tr th {\n",
       "        vertical-align: top;\n",
       "    }\n",
       "\n",
       "    .dataframe thead th {\n",
       "        text-align: right;\n",
       "    }\n",
       "</style>\n",
       "<table border=\"1\" class=\"dataframe\">\n",
       "  <thead>\n",
       "    <tr style=\"text-align: right;\">\n",
       "      <th></th>\n",
       "      <th>Year-Month</th>\n",
       "      <th>Food</th>\n",
       "      <th>Household_Goods</th>\n",
       "      <th>Clothing_and_Footware</th>\n",
       "      <th>Department_Stores</th>\n",
       "      <th>Other_Retailing</th>\n",
       "      <th>Cafes_Restaurants_TakeAway</th>\n",
       "    </tr>\n",
       "  </thead>\n",
       "  <tbody>\n",
       "    <tr>\n",
       "      <th>0</th>\n",
       "      <td>1982-04-01</td>\n",
       "      <td>1167.1</td>\n",
       "      <td>653.4</td>\n",
       "      <td>360.7</td>\n",
       "      <td>479.7</td>\n",
       "      <td>507.9</td>\n",
       "      <td>349.8</td>\n",
       "    </tr>\n",
       "    <tr>\n",
       "      <th>1</th>\n",
       "      <td>1982-05-01</td>\n",
       "      <td>1178.6</td>\n",
       "      <td>648.7</td>\n",
       "      <td>362.6</td>\n",
       "      <td>489.2</td>\n",
       "      <td>502.3</td>\n",
       "      <td>346.3</td>\n",
       "    </tr>\n",
       "    <tr>\n",
       "      <th>2</th>\n",
       "      <td>1982-06-01</td>\n",
       "      <td>1203.7</td>\n",
       "      <td>655.7</td>\n",
       "      <td>365.1</td>\n",
       "      <td>479.2</td>\n",
       "      <td>506.9</td>\n",
       "      <td>350.8</td>\n",
       "    </tr>\n",
       "    <tr>\n",
       "      <th>3</th>\n",
       "      <td>1982-07-01</td>\n",
       "      <td>1209.8</td>\n",
       "      <td>660.4</td>\n",
       "      <td>362.0</td>\n",
       "      <td>476.5</td>\n",
       "      <td>503.7</td>\n",
       "      <td>341.5</td>\n",
       "    </tr>\n",
       "    <tr>\n",
       "      <th>4</th>\n",
       "      <td>1982-08-01</td>\n",
       "      <td>1198.7</td>\n",
       "      <td>659.8</td>\n",
       "      <td>359.3</td>\n",
       "      <td>515.2</td>\n",
       "      <td>506.0</td>\n",
       "      <td>342.7</td>\n",
       "    </tr>\n",
       "    <tr>\n",
       "      <th>...</th>\n",
       "      <td>...</td>\n",
       "      <td>...</td>\n",
       "      <td>...</td>\n",
       "      <td>...</td>\n",
       "      <td>...</td>\n",
       "      <td>...</td>\n",
       "      <td>...</td>\n",
       "    </tr>\n",
       "    <tr>\n",
       "      <th>504</th>\n",
       "      <td>2024-04-01</td>\n",
       "      <td>14285.9</td>\n",
       "      <td>5689.7</td>\n",
       "      <td>2940.4</td>\n",
       "      <td>1885.1</td>\n",
       "      <td>5611.4</td>\n",
       "      <td>5398.8</td>\n",
       "    </tr>\n",
       "    <tr>\n",
       "      <th>505</th>\n",
       "      <td>2024-05-01</td>\n",
       "      <td>14383.1</td>\n",
       "      <td>5755.8</td>\n",
       "      <td>2980.5</td>\n",
       "      <td>1873.3</td>\n",
       "      <td>5621.1</td>\n",
       "      <td>5388.4</td>\n",
       "    </tr>\n",
       "    <tr>\n",
       "      <th>506</th>\n",
       "      <td>2024-06-01</td>\n",
       "      <td>14420.0</td>\n",
       "      <td>5818.8</td>\n",
       "      <td>3001.7</td>\n",
       "      <td>1889.6</td>\n",
       "      <td>5671.4</td>\n",
       "      <td>5385.6</td>\n",
       "    </tr>\n",
       "    <tr>\n",
       "      <th>507</th>\n",
       "      <td>2024-07-01</td>\n",
       "      <td>14447.2</td>\n",
       "      <td>5815.2</td>\n",
       "      <td>2995.3</td>\n",
       "      <td>1884.8</td>\n",
       "      <td>5679.5</td>\n",
       "      <td>5385.3</td>\n",
       "    </tr>\n",
       "    <tr>\n",
       "      <th>508</th>\n",
       "      <td>2024-08-01</td>\n",
       "      <td>14530.7</td>\n",
       "      <td>5797.6</td>\n",
       "      <td>3041.0</td>\n",
       "      <td>1915.2</td>\n",
       "      <td>5753.0</td>\n",
       "      <td>5437.2</td>\n",
       "    </tr>\n",
       "  </tbody>\n",
       "</table>\n",
       "<p>509 rows × 7 columns</p>\n",
       "</div>"
      ],
      "text/plain": [
       "    Year-Month     Food  Household_Goods  Clothing_and_Footware  \\\n",
       "0   1982-04-01   1167.1            653.4                  360.7   \n",
       "1   1982-05-01   1178.6            648.7                  362.6   \n",
       "2   1982-06-01   1203.7            655.7                  365.1   \n",
       "3   1982-07-01   1209.8            660.4                  362.0   \n",
       "4   1982-08-01   1198.7            659.8                  359.3   \n",
       "..         ...      ...              ...                    ...   \n",
       "504 2024-04-01  14285.9           5689.7                 2940.4   \n",
       "505 2024-05-01  14383.1           5755.8                 2980.5   \n",
       "506 2024-06-01  14420.0           5818.8                 3001.7   \n",
       "507 2024-07-01  14447.2           5815.2                 2995.3   \n",
       "508 2024-08-01  14530.7           5797.6                 3041.0   \n",
       "\n",
       "     Department_Stores  Other_Retailing  Cafes_Restaurants_TakeAway  \n",
       "0                479.7            507.9                       349.8  \n",
       "1                489.2            502.3                       346.3  \n",
       "2                479.2            506.9                       350.8  \n",
       "3                476.5            503.7                       341.5  \n",
       "4                515.2            506.0                       342.7  \n",
       "..                 ...              ...                         ...  \n",
       "504             1885.1           5611.4                      5398.8  \n",
       "505             1873.3           5621.1                      5388.4  \n",
       "506             1889.6           5671.4                      5385.6  \n",
       "507             1884.8           5679.5                      5385.3  \n",
       "508             1915.2           5753.0                      5437.2  \n",
       "\n",
       "[509 rows x 7 columns]"
      ]
     },
     "execution_count": 19,
     "metadata": {},
     "output_type": "execute_result"
    }
   ],
   "source": [
    "# Check the dataframe has record date ('Year-Month') as the first column, with turnover values in the other columns\n",
    "sa_turnover_df"
   ]
  },
  {
   "cell_type": "code",
   "execution_count": 20,
   "id": "9e6f209f",
   "metadata": {},
   "outputs": [
    {
     "data": {
      "image/png": "[encoded data removed]",
      "text/plain": [
       "<Figure size 1200x600 with 1 Axes>"
      ]
     },
     "metadata": {},
     "output_type": "display_data"
    }
   ],
   "source": [
    "# Exploratory Data Analysis\n",
    "\n",
    "# Reset the dataframe index to be the datetime column\n",
    "plot_df = sa_turnover_df.copy()\n",
    "plot_df.reset_index(inplace=True, drop=True)\n",
    "plot_df = plot_df.set_index(['Year-Month'])\n",
    "\n",
    "#Format visualization\n",
    "figure, axes = plt.subplots(figsize=(12, 6))  # Adjust the figure size to take up more of the page\n",
    "axes.xaxis.set_major_formatter(mdates.DateFormatter('%Y-%m')) \n",
    "\n",
    "plt.title('Retail Turnover, Seasonally Adjusted')\n",
    "plt.ylabel('Million AUD')\n",
    "plt.xlabel('Year-Month')\n",
    "plt.xticks(rotation=45)\n",
    "\n",
    "plt.plot(plot_df.index, sa_turnover_df['Food'], label='Food')\n",
    "plt.plot(plot_df.index, sa_turnover_df['Household_Goods'], label='Household_Goods')\n",
    "plt.plot(plot_df.index, sa_turnover_df['Clothing_and_Footware'], label='Clothing_and_Footware')\n",
    "plt.plot(plot_df.index, sa_turnover_df['Department_Stores'], label='Department_Stores')\n",
    "plt.plot(plot_df.index, sa_turnover_df['Other_Retailing'], label='Other_Retailing')\n",
    "plt.plot(plot_df.index, sa_turnover_df['Cafes_Restaurants_TakeAway'], label='Cafes_Restaurants_TakeAway')\n",
    "\n",
    "plt.legend() \n",
    "plt.show()\n"
   ]
  },
  {
   "cell_type": "markdown",
   "id": "1124c8b2",
   "metadata": {},
   "source": [
    "# Data Analysis / Results Preparation"
   ]
  },
  {
   "cell_type": "markdown",
   "id": "4514ead6",
   "metadata": {},
   "source": [
    "### Choose the Forecast period & prepare to Normalize / Scale the dataset"
   ]
  },
  {
   "cell_type": "code",
   "execution_count": 21,
   "id": "5a21fc2a",
   "metadata": {},
   "outputs": [],
   "source": [
    "str_forecast_from_date = \"2022-09-01\" # This date sets up a 24 month forecast, as the dataset goes to 2024-08-01 inclusive.\n",
    "forecast_from_date = pd.to_datetime(str_forecast_from_date, format='%Y-%m-%d')\n"
   ]
  },
  {
   "cell_type": "code",
   "execution_count": 22,
   "id": "13fe8417",
   "metadata": {},
   "outputs": [],
   "source": [
    "# Initialize scaler\n",
    "min_max_scaler = MinMaxScaler()"
   ]
  },
  {
   "cell_type": "markdown",
   "id": "34b72d5e",
   "metadata": {},
   "source": [
    "### Create placeholdersfor model performance results"
   ]
  },
  {
   "cell_type": "code",
   "execution_count": 23,
   "id": "5fad9c62",
   "metadata": {},
   "outputs": [],
   "source": [
    "# Initialise storage of model performance result sets\n",
    "\n",
    "# Define a results template\n",
    "results_template_df = pd.DataFrame({'Category': turnover_categories,\n",
    "                                    'RMSE': np.zeros(len(turnover_categories)),\n",
    "                                    'R-squared': np.zeros(len(turnover_categories))\n",
    "                                   })\n",
    "results_template_df.set_index('Category', drop=True, inplace=True)\n",
    "results_template_df = results_template_df.transpose()\n",
    "\n",
    "# Use the template to create storage for each model's performance results\n",
    "results_arma_df = results_template_df.copy()\n",
    "results_arima_df = results_template_df.copy()\n",
    "results_np_df = results_template_df.copy()\n"
   ]
  },
  {
   "cell_type": "markdown",
   "id": "ea230ab6",
   "metadata": {},
   "source": [
    "# Food retailing analysis & forecasting"
   ]
  },
  {
   "cell_type": "code",
   "execution_count": 24,
   "id": "d48a7545",
   "metadata": {},
   "outputs": [],
   "source": [
    "category = 'Food'"
   ]
  },
  {
   "cell_type": "code",
   "execution_count": 25,
   "id": "2ecf2d14",
   "metadata": {},
   "outputs": [],
   "source": [
    "# Extract the Food series from the Retail Turnover dataset\n",
    "category_df = sa_turnover_df[['Year-Month', category]]"
   ]
  },
  {
   "cell_type": "markdown",
   "id": "416a280f",
   "metadata": {},
   "source": [
    "### Split Dataset into Training and Testing components"
   ]
  },
  {
   "cell_type": "code",
   "execution_count": 26,
   "id": "1fbe221f",
   "metadata": {},
   "outputs": [],
   "source": [
    "# Split the unscaled training and testing sets (useful for plots later)\n",
    "\n",
    "# Use a copy of the category data and reset the dataframe index to be the datetime column (makes for easier splitting)\n",
    "unscaled_df = category_df.copy()\n",
    "unscaled_df.reset_index(inplace=True, drop=True)\n",
    "unscaled_df = unscaled_df.set_index(['Year-Month'])\n",
    "\n",
    "train = unscaled_df[unscaled_df.index < forecast_from_date]\n",
    "test = unscaled_df[unscaled_df.index >= forecast_from_date]"
   ]
  },
  {
   "cell_type": "code",
   "execution_count": 27,
   "id": "188ddebf",
   "metadata": {},
   "outputs": [],
   "source": [
    "# Scale (normalise) the data series.\n",
    "\n",
    "# Use a copy of the category data and reset the dataframe index to be the datetime column (makes for easier splitting)\n",
    "scaled_df = category_df.copy()\n",
    "scaled_df.reset_index(inplace=True, drop=True)\n",
    "scaled_df = scaled_df.set_index(['Year-Month'])\n",
    "\n",
    "# Scaling has to be done as a whole series, otherwise train and test splits would be normalised separately.\n",
    "scaled_df[category] = min_max_scaler.fit_transform(pd.DataFrame(scaled_df[category]))\n"
   ]
  },
  {
   "cell_type": "code",
   "execution_count": 28,
   "id": "c0184535",
   "metadata": {},
   "outputs": [],
   "source": [
    "# Splitting the scaled data into training and testing sets\n",
    "scaled_train = scaled_df[scaled_df.index < forecast_from_date]\n",
    "scaled_test = scaled_df[scaled_df.index >= forecast_from_date]\n"
   ]
  },
  {
   "cell_type": "code",
   "execution_count": 29,
   "id": "00679411",
   "metadata": {},
   "outputs": [
    {
     "data": {
      "image/png": "[encoded data removed]",
      "text/plain": [
       "<Figure size 1200x600 with 1 Axes>"
      ]
     },
     "metadata": {},
     "output_type": "display_data"
    }
   ],
   "source": [
    "# Plotting the train and test sets\n",
    "figure, axes = plt.subplots(figsize=(12, 6))  # Adjust the figure size to take up more of the page\n",
    "axes.xaxis.set_major_formatter(mdates.DateFormatter('%Y-%m')) \n",
    "\n",
    "plt.plot(scaled_train.index, scaled_train['Food'], color=\"black\", label='Train')\n",
    "plt.plot(scaled_test.index, scaled_test['Food'], color=\"red\", label='Test')\n",
    "\n",
    "plt.title(f\"Test/Train Split for {category} Retailing, Seasonally Adjusted\")\n",
    "plt.ylabel('Turnover in Million AUD (Normalised)')\n",
    "plt.xlabel('Year-Month')\n",
    "plt.xticks(rotation=45)\n",
    "plt.legend()  # Show legend to differentiate train/test\n",
    "# plt.tight_layout()  # Adjust layout to prevent clipping\n",
    "plt.show()"
   ]
  },
  {
   "cell_type": "markdown",
   "id": "a009f9e2",
   "metadata": {},
   "source": [
    "## Time series prediction - Statistical Models"
   ]
  },
  {
   "cell_type": "markdown",
   "id": "0b0743f6",
   "metadata": {},
   "source": [
    "## ARMA"
   ]
  },
  {
   "cell_type": "markdown",
   "id": "e6d9c96c",
   "metadata": {},
   "source": [
    "### ARMA - Food Retail Turnover"
   ]
  },
  {
   "cell_type": "code",
   "execution_count": 30,
   "id": "9a723dbd",
   "metadata": {},
   "outputs": [],
   "source": [
    "# Define the model output\n",
    "y = scaled_train[category]\n",
    "y_label_arma = \"ARMA Predictions\"\n",
    "\n",
    "# Define ARMA Model\n",
    "ARMAmodel = SARIMAX(y, order=(1, 0, 1))\n",
    "ARMAmodel_fit = ARMAmodel.fit(disp=False)\n",
    "\n",
    "# Generate Turnover predictions\n",
    "y_pred_arma = ARMAmodel_fit.get_forecast(len(scaled_test))\n",
    "y_pred_arma_df = y_pred_arma.conf_int(alpha=0.05)\n",
    "y_pred_arma_df[y_label_arma] = ARMAmodel_fit.predict(start=y_pred_arma_df.index[0], end=y_pred_arma_df.index[-1])\n",
    "\n",
    "# Align the index with test data\n",
    "y_pred_arma_df.index = scaled_test.index\n"
   ]
  },
  {
   "cell_type": "code",
   "execution_count": 31,
   "id": "8a8840db",
   "metadata": {},
   "outputs": [],
   "source": [
    "# Unscale the results ready for plotting and model performance analysis\n",
    "y_pred_arma_df[y_label_arma] = min_max_scaler.inverse_transform(pd.DataFrame(y_pred_arma_df[y_label_arma]))"
   ]
  },
  {
   "cell_type": "code",
   "execution_count": 32,
   "id": "3952d8c9",
   "metadata": {},
   "outputs": [
    {
     "data": {
      "image/png": "[encoded data removed]",
      "text/plain": [
       "<Figure size 1200x600 with 1 Axes>"
      ]
     },
     "metadata": {},
     "output_type": "display_data"
    }
   ],
   "source": [
    "# Plot the Results\n",
    "\n",
    "# Plotting the train and test data\n",
    "figure, axes = plt.subplots(figsize=(12, 6))  # Adjust the figure size to take up more of the page\n",
    "axes.xaxis.set_major_formatter(mdates.DateFormatter('%Y-%m'))\n",
    "\n",
    "plt.plot(train.index, train[category], label='Train', color='black')\n",
    "plt.plot(test.index, test[category], label='Test', color='red')\n",
    "\n",
    "# Plot the ARMA predictions\n",
    "plt.plot(y_pred_arma_df[y_label_arma].index, y_pred_arma_df[y_label_arma], color='green', label=y_label_arma)\n",
    "\n",
    "# Labels and Title\n",
    "plt.title(f\"ARMA Predictions for {category} Retailing, Seasonally Adjusted\")\n",
    "plt.ylabel('Turnover in Million AUD')\n",
    "plt.xlabel('Year-Month')\n",
    "plt.xticks(rotation=45)\n",
    "plt.legend()\n",
    "# plt.tight_layout()  # Adjust layout to prevent clipping\n",
    "plt.show()"
   ]
  },
  {
   "cell_type": "code",
   "execution_count": 33,
   "id": "b881115f",
   "metadata": {},
   "outputs": [],
   "source": [
    "# Calculate and save model performance results \n",
    "\n",
    "# Calculate RMSE and R-squared for ARMA - Food\n",
    "rmse_arma= np.sqrt(mean_squared_error(test[category].values, y_pred_arma_df[y_label_arma]))\n",
    "rsqd_arma = r2_score(test[category].values, y_pred_arma_df[y_label_arma])\n",
    "results_arma_df[category] = [rmse_arma, rsqd_arma]"
   ]
  },
  {
   "cell_type": "markdown",
   "id": "42d39145",
   "metadata": {},
   "source": [
    "### ARMA - repeat the analysis for other Retail Turnover categories"
   ]
  },
  {
   "cell_type": "code",
   "execution_count": 34,
   "id": "98abae3e",
   "metadata": {},
   "outputs": [],
   "source": [
    "category = 'Household_Goods'\n",
    "\n",
    "# Extract the data series from the Retail Turnover dataset\n",
    "category_df = sa_turnover_df[['Year-Month', category]]\n",
    "\n",
    "# Split the unscaled training and testing sets (useful for plots later)\n",
    "# Use a copy of the category data and reset the dataframe index to be the datetime column (makes for easier splitting)\n",
    "unscaled_df = category_df.copy()\n",
    "unscaled_df.reset_index(inplace=True, drop=True)\n",
    "unscaled_df = unscaled_df.set_index(['Year-Month'])\n",
    "\n",
    "train = unscaled_df[unscaled_df.index < forecast_from_date]\n",
    "test = unscaled_df[unscaled_df.index >= forecast_from_date]\n",
    "\n",
    "# Scale (normalise) the data series.\n",
    "# Use a copy of the category data and reset the dataframe index to be the datetime column (makes for easier splitting)\n",
    "scaled_df = category_df.copy()\n",
    "scaled_df.reset_index(inplace=True, drop=True)\n",
    "scaled_df = scaled_df.set_index(['Year-Month'])\n",
    "\n",
    "# Scaling has to be done as a whole series, otherwise train and test splits would be normalised separately.\n",
    "scaled_df[category] = min_max_scaler.fit_transform(pd.DataFrame(scaled_df[category]))\n",
    "\n",
    "# Splitting the scaled data into training and testing sets\n",
    "scaled_train = scaled_df[scaled_df.index < forecast_from_date]\n",
    "scaled_test = scaled_df[scaled_df.index >= forecast_from_date]\n",
    "\n",
    "# Define the model output\n",
    "y = scaled_train[category]\n",
    "y_label_arma = \"ARMA Predictions\"\n",
    "\n",
    "# Define ARMA Model\n",
    "ARMAmodel = SARIMAX(y, order=(1, 0, 1))\n",
    "ARMAmodel_fit = ARMAmodel.fit(disp=False)\n",
    "\n",
    "# Generate Turnover predictions\n",
    "y_pred_arma = ARMAmodel_fit.get_forecast(len(scaled_test))\n",
    "y_pred_arma_df = y_pred_arma.conf_int(alpha=0.05)\n",
    "y_pred_arma_df[y_label_arma] = ARMAmodel_fit.predict(start=y_pred_arma_df.index[0], end=y_pred_arma_df.index[-1])\n",
    "\n",
    "# Align the index with test data\n",
    "y_pred_arma_df.index = scaled_test.index\n",
    "\n",
    "# Unscale the results ready for plotting and model performance analysis\n",
    "y_pred_arma_df[y_label_arma] = min_max_scaler.inverse_transform(pd.DataFrame(y_pred_arma_df[y_label_arma]))\n",
    "\n",
    "# Calculate and save model performance results \n",
    "\n",
    "# Calculate RMSE and R-squared for ARMA - Household_Goods\n",
    "rmse_arma= np.sqrt(mean_squared_error(test[category].values, y_pred_arma_df[y_label_arma]))\n",
    "rsqd_arma = r2_score(test[category].values, y_pred_arma_df[y_label_arma])\n",
    "results_arma_df[category] = [rmse_arma, rsqd_arma]"
   ]
  },
  {
   "cell_type": "code",
   "execution_count": 35,
   "id": "8bbd58e4",
   "metadata": {},
   "outputs": [],
   "source": [
    "category = 'Clothing_and_Footware'\n",
    "\n",
    "# Extract the data series from the Retail Turnover dataset\n",
    "category_df = sa_turnover_df[['Year-Month', category]]\n",
    "\n",
    "# Split the unscaled training and testing sets (useful for plots later)\n",
    "# Use a copy of the category data and reset the dataframe index to be the datetime column (makes for easier splitting)\n",
    "unscaled_df = category_df.copy()\n",
    "unscaled_df.reset_index(inplace=True, drop=True)\n",
    "unscaled_df = unscaled_df.set_index(['Year-Month'])\n",
    "\n",
    "train = unscaled_df[unscaled_df.index < forecast_from_date]\n",
    "test = unscaled_df[unscaled_df.index >= forecast_from_date]\n",
    "\n",
    "# Scale (normalise) the data series.\n",
    "# Use a copy of the category data and reset the dataframe index to be the datetime column (makes for easier splitting)\n",
    "scaled_df = category_df.copy()\n",
    "scaled_df.reset_index(inplace=True, drop=True)\n",
    "scaled_df = scaled_df.set_index(['Year-Month'])\n",
    "\n",
    "# Scaling has to be done as a whole series, otherwise train and test splits would be normalised separately.\n",
    "scaled_df[category] = min_max_scaler.fit_transform(pd.DataFrame(scaled_df[category]))\n",
    "\n",
    "# Splitting the scaled data into training and testing sets\n",
    "scaled_train = scaled_df[scaled_df.index < forecast_from_date]\n",
    "scaled_test = scaled_df[scaled_df.index >= forecast_from_date]\n",
    "\n",
    "# Define the model output\n",
    "y = scaled_train[category]\n",
    "y_label_arma = \"ARMA Predictions\"\n",
    "\n",
    "# Define ARMA Model\n",
    "ARMAmodel = SARIMAX(y, order=(1, 0, 1))\n",
    "ARMAmodel_fit = ARMAmodel.fit(disp=False)\n",
    "\n",
    "# Generate Turnover predictions\n",
    "y_pred_arma = ARMAmodel_fit.get_forecast(len(scaled_test))\n",
    "y_pred_arma_df = y_pred_arma.conf_int(alpha=0.05)\n",
    "y_pred_arma_df[y_label_arma] = ARMAmodel_fit.predict(start=y_pred_arma_df.index[0], end=y_pred_arma_df.index[-1])\n",
    "\n",
    "# Align the index with test data\n",
    "y_pred_arma_df.index = scaled_test.index\n",
    "\n",
    "# Unscale the results ready for plotting and model performance analysis\n",
    "y_pred_arma_df[y_label_arma] = min_max_scaler.inverse_transform(pd.DataFrame(y_pred_arma_df[y_label_arma]))\n",
    "\n",
    "# Calculate and save model performance results \n",
    "\n",
    "# Calculate RMSE and R-squared for ARMA - Household_Goods\n",
    "rmse_arma= np.sqrt(mean_squared_error(test[category].values, y_pred_arma_df[y_label_arma]))\n",
    "rsqd_arma = r2_score(test[category].values, y_pred_arma_df[y_label_arma])\n",
    "results_arma_df[category] = [rmse_arma, rsqd_arma]"
   ]
  },
  {
   "cell_type": "code",
   "execution_count": 36,
   "id": "2ac9c58c",
   "metadata": {},
   "outputs": [],
   "source": [
    "category = 'Department_Stores'\n",
    "\n",
    "# Extract the data series from the Retail Turnover dataset\n",
    "category_df = sa_turnover_df[['Year-Month', category]]\n",
    "\n",
    "# Split the unscaled training and testing sets (useful for plots later)\n",
    "# Use a copy of the category data and reset the dataframe index to be the datetime column (makes for easier splitting)\n",
    "unscaled_df = category_df.copy()\n",
    "unscaled_df.reset_index(inplace=True, drop=True)\n",
    "unscaled_df = unscaled_df.set_index(['Year-Month'])\n",
    "\n",
    "train = unscaled_df[unscaled_df.index < forecast_from_date]\n",
    "test = unscaled_df[unscaled_df.index >= forecast_from_date]\n",
    "\n",
    "# Scale (normalise) the data series.\n",
    "# Use a copy of the category data and reset the dataframe index to be the datetime column (makes for easier splitting)\n",
    "scaled_df = category_df.copy()\n",
    "scaled_df.reset_index(inplace=True, drop=True)\n",
    "scaled_df = scaled_df.set_index(['Year-Month'])\n",
    "\n",
    "# Scaling has to be done as a whole series, otherwise train and test splits would be normalised separately.\n",
    "scaled_df[category] = min_max_scaler.fit_transform(pd.DataFrame(scaled_df[category]))\n",
    "\n",
    "# Splitting the scaled data into training and testing sets\n",
    "scaled_train = scaled_df[scaled_df.index < forecast_from_date]\n",
    "scaled_test = scaled_df[scaled_df.index >= forecast_from_date]\n",
    "\n",
    "# Define the model output\n",
    "y = scaled_train[category]\n",
    "y_label_arma = \"ARMA Predictions\"\n",
    "\n",
    "# Define ARMA Model\n",
    "ARMAmodel = SARIMAX(y, order=(1, 0, 1))\n",
    "ARMAmodel_fit = ARMAmodel.fit(disp=False)\n",
    "\n",
    "# Generate Turnover predictions\n",
    "y_pred_arma = ARMAmodel_fit.get_forecast(len(scaled_test))\n",
    "y_pred_arma_df = y_pred_arma.conf_int(alpha=0.05)\n",
    "y_pred_arma_df[y_label_arma] = ARMAmodel_fit.predict(start=y_pred_arma_df.index[0], end=y_pred_arma_df.index[-1])\n",
    "\n",
    "# Align the index with test data\n",
    "y_pred_arma_df.index = scaled_test.index\n",
    "\n",
    "# Unscale the results ready for plotting and model performance analysis\n",
    "y_pred_arma_df[y_label_arma] = min_max_scaler.inverse_transform(pd.DataFrame(y_pred_arma_df[y_label_arma]))\n",
    "\n",
    "# Calculate and save model performance results \n",
    "\n",
    "# Calculate RMSE and R-squared for ARMA - Household_Goods\n",
    "rmse_arma= np.sqrt(mean_squared_error(test[category].values, y_pred_arma_df[y_label_arma]))\n",
    "rsqd_arma = r2_score(test[category].values, y_pred_arma_df[y_label_arma])\n",
    "results_arma_df[category] = [rmse_arma, rsqd_arma]"
   ]
  },
  {
   "cell_type": "code",
   "execution_count": 37,
   "id": "61cf499a",
   "metadata": {},
   "outputs": [],
   "source": [
    "category = 'Other_Retailing'\n",
    "\n",
    "# Extract the data series from the Retail Turnover dataset\n",
    "category_df = sa_turnover_df[['Year-Month', category]]\n",
    "\n",
    "# Split the unscaled training and testing sets (useful for plots later)\n",
    "# Use a copy of the category data and reset the dataframe index to be the datetime column (makes for easier splitting)\n",
    "unscaled_df = category_df.copy()\n",
    "unscaled_df.reset_index(inplace=True, drop=True)\n",
    "unscaled_df = unscaled_df.set_index(['Year-Month'])\n",
    "\n",
    "train = unscaled_df[unscaled_df.index < forecast_from_date]\n",
    "test = unscaled_df[unscaled_df.index >= forecast_from_date]\n",
    "\n",
    "# Scale (normalise) the data series.\n",
    "# Use a copy of the category data and reset the dataframe index to be the datetime column (makes for easier splitting)\n",
    "scaled_df = category_df.copy()\n",
    "scaled_df.reset_index(inplace=True, drop=True)\n",
    "scaled_df = scaled_df.set_index(['Year-Month'])\n",
    "\n",
    "# Scaling has to be done as a whole series, otherwise train and test splits would be normalised separately.\n",
    "scaled_df[category] = min_max_scaler.fit_transform(pd.DataFrame(scaled_df[category]))\n",
    "\n",
    "# Splitting the scaled data into training and testing sets\n",
    "scaled_train = scaled_df[scaled_df.index < forecast_from_date]\n",
    "scaled_test = scaled_df[scaled_df.index >= forecast_from_date]\n",
    "\n",
    "# Define the model output\n",
    "y = scaled_train[category]\n",
    "y_label_arma = \"ARMA Predictions\"\n",
    "\n",
    "# Define ARMA Model\n",
    "ARMAmodel = SARIMAX(y, order=(1, 0, 1))\n",
    "ARMAmodel_fit = ARMAmodel.fit(disp=False)\n",
    "\n",
    "# Generate Turnover predictions\n",
    "y_pred_arma = ARMAmodel_fit.get_forecast(len(scaled_test))\n",
    "y_pred_arma_df = y_pred_arma.conf_int(alpha=0.05)\n",
    "y_pred_arma_df[y_label_arma] = ARMAmodel_fit.predict(start=y_pred_arma_df.index[0], end=y_pred_arma_df.index[-1])\n",
    "\n",
    "# Align the index with test data\n",
    "y_pred_arma_df.index = scaled_test.index\n",
    "\n",
    "# Unscale the results ready for plotting and model performance analysis\n",
    "y_pred_arma_df[y_label_arma] = min_max_scaler.inverse_transform(pd.DataFrame(y_pred_arma_df[y_label_arma]))\n",
    "\n",
    "# Calculate and save model performance results \n",
    "\n",
    "# Calculate RMSE and R-squared for ARMA - Household_Goods\n",
    "rmse_arma= np.sqrt(mean_squared_error(test[category].values, y_pred_arma_df[y_label_arma]))\n",
    "rsqd_arma = r2_score(test[category].values, y_pred_arma_df[y_label_arma])\n",
    "results_arma_df[category] = [rmse_arma, rsqd_arma]"
   ]
  },
  {
   "cell_type": "code",
   "execution_count": 38,
   "id": "acab1d28",
   "metadata": {},
   "outputs": [],
   "source": [
    "category = 'Cafes_Restaurants_TakeAway'\n",
    "\n",
    "# Extract the data series from the Retail Turnover dataset\n",
    "category_df = sa_turnover_df[['Year-Month', category]]\n",
    "\n",
    "# Split the unscaled training and testing sets (useful for plots later)\n",
    "# Use a copy of the category data and reset the dataframe index to be the datetime column (makes for easier splitting)\n",
    "unscaled_df = category_df.copy()\n",
    "unscaled_df.reset_index(inplace=True, drop=True)\n",
    "unscaled_df = unscaled_df.set_index(['Year-Month'])\n",
    "\n",
    "train = unscaled_df[unscaled_df.index < forecast_from_date]\n",
    "test = unscaled_df[unscaled_df.index >= forecast_from_date]\n",
    "\n",
    "# Scale (normalise) the data series.\n",
    "# Use a copy of the category data and reset the dataframe index to be the datetime column (makes for easier splitting)\n",
    "scaled_df = category_df.copy()\n",
    "scaled_df.reset_index(inplace=True, drop=True)\n",
    "scaled_df = scaled_df.set_index(['Year-Month'])\n",
    "\n",
    "# Scaling has to be done as a whole series, otherwise train and test splits would be normalised separately.\n",
    "scaled_df[category] = min_max_scaler.fit_transform(pd.DataFrame(scaled_df[category]))\n",
    "\n",
    "# Splitting the scaled data into training and testing sets\n",
    "scaled_train = scaled_df[scaled_df.index < forecast_from_date]\n",
    "scaled_test = scaled_df[scaled_df.index >= forecast_from_date]\n",
    "\n",
    "# Define the model output\n",
    "y = scaled_train[category]\n",
    "y_label_arma = \"ARMA Predictions\"\n",
    "\n",
    "# Define ARMA Model\n",
    "ARMAmodel = SARIMAX(y, order=(1, 0, 1))\n",
    "ARMAmodel_fit = ARMAmodel.fit(disp=False)\n",
    "\n",
    "# Generate Turnover predictions\n",
    "y_pred_arma = ARMAmodel_fit.get_forecast(len(scaled_test))\n",
    "y_pred_arma_df = y_pred_arma.conf_int(alpha=0.05)\n",
    "y_pred_arma_df[y_label_arma] = ARMAmodel_fit.predict(start=y_pred_arma_df.index[0], end=y_pred_arma_df.index[-1])\n",
    "\n",
    "# Align the index with test data\n",
    "y_pred_arma_df.index = scaled_test.index\n",
    "\n",
    "# Unscale the results ready for plotting and model performance analysis\n",
    "y_pred_arma_df[y_label_arma] = min_max_scaler.inverse_transform(pd.DataFrame(y_pred_arma_df[y_label_arma]))\n",
    "\n",
    "# Calculate and save model performance results \n",
    "\n",
    "# Calculate RMSE and R-squared for ARMA - Household_Goods\n",
    "rmse_arma= np.sqrt(mean_squared_error(test[category].values, y_pred_arma_df[y_label_arma]))\n",
    "rsqd_arma = r2_score(test[category].values, y_pred_arma_df[y_label_arma])\n",
    "results_arma_df[category] = [rmse_arma, rsqd_arma]"
   ]
  },
  {
   "cell_type": "markdown",
   "id": "416b2071",
   "metadata": {},
   "source": [
    "### ARMA - summarise model performance for all Turnover categories"
   ]
  },
  {
   "cell_type": "code",
   "execution_count": 39,
   "id": "659f91cf",
   "metadata": {},
   "outputs": [
    {
     "data": {
      "text/html": [
       "<div>\n",
       "<style scoped>\n",
       "    .dataframe tbody tr th:only-of-type {\n",
       "        vertical-align: middle;\n",
       "    }\n",
       "\n",
       "    .dataframe tbody tr th {\n",
       "        vertical-align: top;\n",
       "    }\n",
       "\n",
       "    .dataframe thead th {\n",
       "        text-align: right;\n",
       "    }\n",
       "</style>\n",
       "<table border=\"1\" class=\"dataframe\">\n",
       "  <thead>\n",
       "    <tr style=\"text-align: right;\">\n",
       "      <th>Category</th>\n",
       "      <th>Food</th>\n",
       "      <th>Household_Goods</th>\n",
       "      <th>Clothing_and_Footware</th>\n",
       "      <th>Department_Stores</th>\n",
       "      <th>Other_Retailing</th>\n",
       "      <th>Cafes_Restaurants_TakeAway</th>\n",
       "    </tr>\n",
       "  </thead>\n",
       "  <tbody>\n",
       "    <tr>\n",
       "      <th>RMSE</th>\n",
       "      <td>772.989309</td>\n",
       "      <td>292.595682</td>\n",
       "      <td>125.613863</td>\n",
       "      <td>46.045513</td>\n",
       "      <td>138.062098</td>\n",
       "      <td>338.316832</td>\n",
       "    </tr>\n",
       "    <tr>\n",
       "      <th>R-squared</th>\n",
       "      <td>-9.889264</td>\n",
       "      <td>-3.791624</td>\n",
       "      <td>-6.575085</td>\n",
       "      <td>-0.524058</td>\n",
       "      <td>-0.386605</td>\n",
       "      <td>-11.686900</td>\n",
       "    </tr>\n",
       "  </tbody>\n",
       "</table>\n",
       "</div>"
      ],
      "text/plain": [
       "Category         Food  Household_Goods  Clothing_and_Footware  \\\n",
       "RMSE       772.989309       292.595682             125.613863   \n",
       "R-squared   -9.889264        -3.791624              -6.575085   \n",
       "\n",
       "Category   Department_Stores  Other_Retailing  Cafes_Restaurants_TakeAway  \n",
       "RMSE               46.045513       138.062098                  338.316832  \n",
       "R-squared          -0.524058        -0.386605                  -11.686900  "
      ]
     },
     "execution_count": 39,
     "metadata": {},
     "output_type": "execute_result"
    }
   ],
   "source": [
    "results_arma_df"
   ]
  },
  {
   "cell_type": "markdown",
   "id": "e0abfbd3",
   "metadata": {},
   "source": [
    "## ARIMA"
   ]
  },
  {
   "cell_type": "markdown",
   "id": "60f2e41e",
   "metadata": {},
   "source": [
    "### ARIMA - Food Retail Turnover"
   ]
  },
  {
   "cell_type": "code",
   "execution_count": 40,
   "id": "621e0a82",
   "metadata": {},
   "outputs": [],
   "source": [
    "category = 'Food'\n",
    "\n",
    "# Extract the data series from the Retail Turnover dataset\n",
    "category_df = sa_turnover_df[['Year-Month', category]]\n",
    "\n",
    "# Split the unscaled training and testing sets (useful for plots later)\n",
    "# Use a copy of the category data and reset the dataframe index to be the datetime column (makes for easier splitting)\n",
    "unscaled_df = category_df.copy()\n",
    "unscaled_df.reset_index(inplace=True, drop=True)\n",
    "unscaled_df = unscaled_df.set_index(['Year-Month'])\n",
    "\n",
    "train = unscaled_df[unscaled_df.index < forecast_from_date]\n",
    "test = unscaled_df[unscaled_df.index >= forecast_from_date]\n",
    "\n",
    "# Scale (normalise) the data series.\n",
    "# Use a copy of the category data and reset the dataframe index to be the datetime column (makes for easier splitting)\n",
    "scaled_df = category_df.copy()\n",
    "scaled_df.reset_index(inplace=True, drop=True)\n",
    "scaled_df = scaled_df.set_index(['Year-Month'])\n",
    "\n",
    "# Scaling has to be done as a whole series, otherwise train and test splits would be normalised separately.\n",
    "scaled_df[category] = min_max_scaler.fit_transform(pd.DataFrame(scaled_df[category]))\n",
    "\n",
    "# Splitting the scaled data into training and testing sets\n",
    "scaled_train = scaled_df[scaled_df.index < forecast_from_date]\n",
    "scaled_test = scaled_df[scaled_df.index >= forecast_from_date]\n",
    "\n",
    "# Define the model output\n",
    "y = scaled_train[category]\n",
    "y_label_arima = \"ARIMA Predictions\"\n",
    "\n",
    "# Define ARIMA Model\n",
    "ARIMAmodel = ARIMA(y, order = (2, 2, 2)) # Adjust as necessary\n",
    "ARIMAmodel_fit = ARIMAmodel.fit()\n",
    "\n",
    "# Generate ARIMA predictions\n",
    "y_pred_arima = ARIMAmodel_fit.get_forecast(len(scaled_test))\n",
    "y_pred_arima_df = y_pred_arima.conf_int(alpha = 0.05) \n",
    "y_pred_arima_df[y_label_arima] = ARIMAmodel_fit.predict(start = y_pred_arima_df.index[0], end = y_pred_arima_df.index[-1])\n",
    "\n",
    "# Align the index with test data\n",
    "y_pred_arima_df.index = scaled_test.index\n"
   ]
  },
  {
   "cell_type": "code",
   "execution_count": 41,
   "id": "9f61b356",
   "metadata": {},
   "outputs": [],
   "source": [
    "# Unscale the results ready for plotting and model performance analysis\n",
    "y_pred_arima_df[y_label_arima] = min_max_scaler.inverse_transform(pd.DataFrame(y_pred_arima_df[y_label_arima]))"
   ]
  },
  {
   "cell_type": "code",
   "execution_count": 42,
   "id": "98db99d3",
   "metadata": {},
   "outputs": [
    {
     "data": {
      "image/png": "[encoded data removed]",
      "text/plain": [
       "<Figure size 1200x600 with 1 Axes>"
      ]
     },
     "metadata": {},
     "output_type": "display_data"
    }
   ],
   "source": [
    "# Plot the Results\n",
    "# Plotting the train and test sets\n",
    "figure, axes = plt.subplots(figsize=(12, 6))  # Adjust the figure size to take up more of the page\n",
    "axes.xaxis.set_major_formatter(mdates.DateFormatter('%Y-%m'))\n",
    "\n",
    "plt.plot(train.index, train[category], label='Train', color='black')\n",
    "plt.plot(test.index, test[category], label='Test', color='red')\n",
    "\n",
    "# Plot ARIMA Predictions\n",
    "plt.plot(y_pred_arima_df.index, y_pred_arima_df[y_label_arima], color='purple', label=y_label_arima)\n",
    "\n",
    "# Labels and Title\n",
    "plt.title(f\"ARIMA Predictions for {category} Retailing, Seasonally Adjusted\")\n",
    "plt.ylabel('Turnover in Million AUD')\n",
    "plt.xlabel('Year-Month')\n",
    "plt.xticks(rotation=45)\n",
    "plt.legend()\n",
    "# plt.tight_layout()  # Adjust layout to prevent clipping\n",
    "plt.show()"
   ]
  },
  {
   "cell_type": "code",
   "execution_count": 43,
   "id": "276806d6",
   "metadata": {},
   "outputs": [],
   "source": [
    "# Calculate and save model performance results\n",
    "\n",
    "# Calculate RMSE and R-squared for ARIMA\n",
    "rmse_arima = np.sqrt(mean_squared_error(test[category].values, y_pred_arima_df[y_label_arima]))\n",
    "rsqd_arima = r2_score(test[category].values, y_pred_arima_df[y_label_arima])\n",
    "results_arima_df[category] = [rmse_arima, rsqd_arima]"
   ]
  },
  {
   "cell_type": "markdown",
   "id": "c90c3040",
   "metadata": {},
   "source": [
    "### ARIMA - repeat the analysis for other Retail Turnover categories"
   ]
  },
  {
   "cell_type": "code",
   "execution_count": 44,
   "id": "966dd310",
   "metadata": {},
   "outputs": [],
   "source": [
    "category = 'Household_Goods'\n",
    "\n",
    "# Extract the data series from the Retail Turnover dataset\n",
    "category_df = sa_turnover_df[['Year-Month', category]]\n",
    "\n",
    "# Split the unscaled training and testing sets (useful for plots later)\n",
    "# Use a copy of the category data and reset the dataframe index to be the datetime column (makes for easier splitting)\n",
    "unscaled_df = category_df.copy()\n",
    "unscaled_df.reset_index(inplace=True, drop=True)\n",
    "unscaled_df = unscaled_df.set_index(['Year-Month'])\n",
    "\n",
    "train = unscaled_df[unscaled_df.index < forecast_from_date]\n",
    "test = unscaled_df[unscaled_df.index >= forecast_from_date]\n",
    "\n",
    "# Scale (normalise) the data series.\n",
    "# Use a copy of the category data and reset the dataframe index to be the datetime column (makes for easier splitting)\n",
    "scaled_df = category_df.copy()\n",
    "scaled_df.reset_index(inplace=True, drop=True)\n",
    "scaled_df = scaled_df.set_index(['Year-Month'])\n",
    "\n",
    "# Scaling has to be done as a whole series, otherwise train and test splits would be normalised separately.\n",
    "scaled_df[category] = min_max_scaler.fit_transform(pd.DataFrame(scaled_df[category]))\n",
    "\n",
    "# Splitting the scaled data into training and testing sets\n",
    "scaled_train = scaled_df[scaled_df.index < forecast_from_date]\n",
    "scaled_test = scaled_df[scaled_df.index >= forecast_from_date]\n",
    "\n",
    "# Define the model output\n",
    "y = scaled_train[category]\n",
    "y_label_arima = \"ARIMA Predictions\"\n",
    "\n",
    "# Define ARIMA Model\n",
    "ARIMAmodel = ARIMA(y, order = (2, 2, 2)) # Adjust as necessary\n",
    "ARIMAmodel_fit = ARIMAmodel.fit()\n",
    "\n",
    "# Generate ARIMA predictions\n",
    "y_pred_arima = ARIMAmodel_fit.get_forecast(len(scaled_test))\n",
    "y_pred_arima_df = y_pred_arima.conf_int(alpha = 0.05) \n",
    "y_pred_arima_df[y_label_arima] = ARIMAmodel_fit.predict(start = y_pred_arima_df.index[0], end = y_pred_arima_df.index[-1])\n",
    "\n",
    "# Align the index with test data\n",
    "y_pred_arima_df.index = scaled_test.index\n",
    "\n",
    "# Unscale the results ready for plotting and model performance analysis\n",
    "y_pred_arima_df[y_label_arima] = min_max_scaler.inverse_transform(pd.DataFrame(y_pred_arima_df[y_label_arima]))\n",
    "\n",
    "# Calculate and save model performance results\n",
    "\n",
    "# Calculate RMSE and R-squared for ARIMA\n",
    "rmse_arima = np.sqrt(mean_squared_error(test[category].values, y_pred_arima_df[y_label_arima]))\n",
    "rsqd_arima = r2_score(test[category].values, y_pred_arima_df[y_label_arima])\n",
    "results_arima_df[category] = [rmse_arima, rsqd_arima]"
   ]
  },
  {
   "cell_type": "code",
   "execution_count": 45,
   "id": "36193be6",
   "metadata": {},
   "outputs": [],
   "source": [
    "category = 'Clothing_and_Footware'\n",
    "\n",
    "# Extract the data series from the Retail Turnover dataset\n",
    "category_df = sa_turnover_df[['Year-Month', category]]\n",
    "\n",
    "# Split the unscaled training and testing sets (useful for plots later)\n",
    "# Use a copy of the category data and reset the dataframe index to be the datetime column (makes for easier splitting)\n",
    "unscaled_df = category_df.copy()\n",
    "unscaled_df.reset_index(inplace=True, drop=True)\n",
    "unscaled_df = unscaled_df.set_index(['Year-Month'])\n",
    "\n",
    "train = unscaled_df[unscaled_df.index < forecast_from_date]\n",
    "test = unscaled_df[unscaled_df.index >= forecast_from_date]\n",
    "\n",
    "# Scale (normalise) the data series.\n",
    "# Use a copy of the category data and reset the dataframe index to be the datetime column (makes for easier splitting)\n",
    "scaled_df = category_df.copy()\n",
    "scaled_df.reset_index(inplace=True, drop=True)\n",
    "scaled_df = scaled_df.set_index(['Year-Month'])\n",
    "\n",
    "# Scaling has to be done as a whole series, otherwise train and test splits would be normalised separately.\n",
    "scaled_df[category] = min_max_scaler.fit_transform(pd.DataFrame(scaled_df[category]))\n",
    "\n",
    "# Splitting the scaled data into training and testing sets\n",
    "scaled_train = scaled_df[scaled_df.index < forecast_from_date]\n",
    "scaled_test = scaled_df[scaled_df.index >= forecast_from_date]\n",
    "\n",
    "# Define the model output\n",
    "y = scaled_train[category]\n",
    "y_label_arima = \"ARIMA Predictions\"\n",
    "\n",
    "# Define ARIMA Model\n",
    "ARIMAmodel = ARIMA(y, order = (2, 2, 2)) # Adjust as necessary\n",
    "ARIMAmodel_fit = ARIMAmodel.fit()\n",
    "\n",
    "# Generate ARIMA predictions\n",
    "y_pred_arima = ARIMAmodel_fit.get_forecast(len(scaled_test))\n",
    "y_pred_arima_df = y_pred_arima.conf_int(alpha = 0.05) \n",
    "y_pred_arima_df[y_label_arima] = ARIMAmodel_fit.predict(start = y_pred_arima_df.index[0], end = y_pred_arima_df.index[-1])\n",
    "\n",
    "# Align the index with test data\n",
    "y_pred_arima_df.index = scaled_test.index\n",
    "\n",
    "# Unscale the results ready for plotting and model performance analysis\n",
    "y_pred_arima_df[y_label_arima] = min_max_scaler.inverse_transform(pd.DataFrame(y_pred_arima_df[y_label_arima]))\n",
    "\n",
    "# Calculate and save model performance results\n",
    "\n",
    "# Calculate RMSE and R-squared for ARIMA\n",
    "rmse_arima = np.sqrt(mean_squared_error(test[category].values, y_pred_arima_df[y_label_arima]))\n",
    "rsqd_arima = r2_score(test[category].values, y_pred_arima_df[y_label_arima])\n",
    "results_arima_df[category] = [rmse_arima, rsqd_arima]"
   ]
  },
  {
   "cell_type": "code",
   "execution_count": 46,
   "id": "35c65fb4",
   "metadata": {},
   "outputs": [],
   "source": [
    "category = 'Department_Stores'\n",
    "\n",
    "# Extract the data series from the Retail Turnover dataset\n",
    "category_df = sa_turnover_df[['Year-Month', category]]\n",
    "\n",
    "# Split the unscaled training and testing sets (useful for plots later)\n",
    "# Use a copy of the category data and reset the dataframe index to be the datetime column (makes for easier splitting)\n",
    "unscaled_df = category_df.copy()\n",
    "unscaled_df.reset_index(inplace=True, drop=True)\n",
    "unscaled_df = unscaled_df.set_index(['Year-Month'])\n",
    "\n",
    "train = unscaled_df[unscaled_df.index < forecast_from_date]\n",
    "test = unscaled_df[unscaled_df.index >= forecast_from_date]\n",
    "\n",
    "# Scale (normalise) the data series.\n",
    "# Use a copy of the category data and reset the dataframe index to be the datetime column (makes for easier splitting)\n",
    "scaled_df = category_df.copy()\n",
    "scaled_df.reset_index(inplace=True, drop=True)\n",
    "scaled_df = scaled_df.set_index(['Year-Month'])\n",
    "\n",
    "# Scaling has to be done as a whole series, otherwise train and test splits would be normalised separately.\n",
    "scaled_df[category] = min_max_scaler.fit_transform(pd.DataFrame(scaled_df[category]))\n",
    "\n",
    "# Splitting the scaled data into training and testing sets\n",
    "scaled_train = scaled_df[scaled_df.index < forecast_from_date]\n",
    "scaled_test = scaled_df[scaled_df.index >= forecast_from_date]\n",
    "\n",
    "# Define the model output\n",
    "y = scaled_train[category]\n",
    "y_label_arima = \"ARIMA Predictions\"\n",
    "\n",
    "# Define ARIMA Model\n",
    "ARIMAmodel = ARIMA(y, order = (2, 2, 2)) # Adjust as necessary\n",
    "ARIMAmodel_fit = ARIMAmodel.fit()\n",
    "\n",
    "# Generate ARIMA predictions\n",
    "y_pred_arima = ARIMAmodel_fit.get_forecast(len(scaled_test))\n",
    "y_pred_arima_df = y_pred_arima.conf_int(alpha = 0.05) \n",
    "y_pred_arima_df[y_label_arima] = ARIMAmodel_fit.predict(start = y_pred_arima_df.index[0], end = y_pred_arima_df.index[-1])\n",
    "\n",
    "# Align the index with test data\n",
    "y_pred_arima_df.index = scaled_test.index\n",
    "\n",
    "# Unscale the results ready for plotting and model performance analysis\n",
    "y_pred_arima_df[y_label_arima] = min_max_scaler.inverse_transform(pd.DataFrame(y_pred_arima_df[y_label_arima]))\n",
    "\n",
    "# Calculate and save model performance results\n",
    "\n",
    "# Calculate RMSE and R-squared for ARIMA\n",
    "rmse_arima = np.sqrt(mean_squared_error(test[category].values, y_pred_arima_df[y_label_arima]))\n",
    "rsqd_arima = r2_score(test[category].values, y_pred_arima_df[y_label_arima])\n",
    "results_arima_df[category] = [rmse_arima, rsqd_arima]"
   ]
  },
  {
   "cell_type": "code",
   "execution_count": 47,
   "id": "aec3b9eb",
   "metadata": {},
   "outputs": [],
   "source": [
    "category = 'Other_Retailing'\n",
    "\n",
    "# Extract the data series from the Retail Turnover dataset\n",
    "category_df = sa_turnover_df[['Year-Month', category]]\n",
    "\n",
    "# Split the unscaled training and testing sets (useful for plots later)\n",
    "# Use a copy of the category data and reset the dataframe index to be the datetime column (makes for easier splitting)\n",
    "unscaled_df = category_df.copy()\n",
    "unscaled_df.reset_index(inplace=True, drop=True)\n",
    "unscaled_df = unscaled_df.set_index(['Year-Month'])\n",
    "\n",
    "train = unscaled_df[unscaled_df.index < forecast_from_date]\n",
    "test = unscaled_df[unscaled_df.index >= forecast_from_date]\n",
    "\n",
    "# Scale (normalise) the data series.\n",
    "# Use a copy of the category data and reset the dataframe index to be the datetime column (makes for easier splitting)\n",
    "scaled_df = category_df.copy()\n",
    "scaled_df.reset_index(inplace=True, drop=True)\n",
    "scaled_df = scaled_df.set_index(['Year-Month'])\n",
    "\n",
    "# Scaling has to be done as a whole series, otherwise train and test splits would be normalised separately.\n",
    "scaled_df[category] = min_max_scaler.fit_transform(pd.DataFrame(scaled_df[category]))\n",
    "\n",
    "# Splitting the scaled data into training and testing sets\n",
    "scaled_train = scaled_df[scaled_df.index < forecast_from_date]\n",
    "scaled_test = scaled_df[scaled_df.index >= forecast_from_date]\n",
    "\n",
    "# Define the model output\n",
    "y = scaled_train[category]\n",
    "y_label_arima = \"ARIMA Predictions\"\n",
    "\n",
    "# Define ARIMA Model\n",
    "ARIMAmodel = ARIMA(y, order = (2, 2, 2)) # Adjust as necessary\n",
    "ARIMAmodel_fit = ARIMAmodel.fit()\n",
    "\n",
    "# Generate ARIMA predictions\n",
    "y_pred_arima = ARIMAmodel_fit.get_forecast(len(scaled_test))\n",
    "y_pred_arima_df = y_pred_arima.conf_int(alpha = 0.05) \n",
    "y_pred_arima_df[y_label_arima] = ARIMAmodel_fit.predict(start = y_pred_arima_df.index[0], end = y_pred_arima_df.index[-1])\n",
    "\n",
    "# Align the index with test data\n",
    "y_pred_arima_df.index = scaled_test.index\n",
    "\n",
    "# Unscale the results ready for plotting and model performance analysis\n",
    "y_pred_arima_df[y_label_arima] = min_max_scaler.inverse_transform(pd.DataFrame(y_pred_arima_df[y_label_arima]))\n",
    "\n",
    "# Calculate and save model performance results\n",
    "\n",
    "# Calculate RMSE and R-squared for ARIMA\n",
    "rmse_arima = np.sqrt(mean_squared_error(test[category].values, y_pred_arima_df[y_label_arima]))\n",
    "rsqd_arima = r2_score(test[category].values, y_pred_arima_df[y_label_arima])\n",
    "results_arima_df[category] = [rmse_arima, rsqd_arima]"
   ]
  },
  {
   "cell_type": "code",
   "execution_count": 48,
   "id": "dc88dda9",
   "metadata": {},
   "outputs": [],
   "source": [
    "category = 'Cafes_Restaurants_TakeAway'\n",
    "\n",
    "# Extract the data series from the Retail Turnover dataset\n",
    "category_df = sa_turnover_df[['Year-Month', category]]\n",
    "\n",
    "# Split the unscaled training and testing sets (useful for plots later)\n",
    "# Use a copy of the category data and reset the dataframe index to be the datetime column (makes for easier splitting)\n",
    "unscaled_df = category_df.copy()\n",
    "unscaled_df.reset_index(inplace=True, drop=True)\n",
    "unscaled_df = unscaled_df.set_index(['Year-Month'])\n",
    "\n",
    "train = unscaled_df[unscaled_df.index < forecast_from_date]\n",
    "test = unscaled_df[unscaled_df.index >= forecast_from_date]\n",
    "\n",
    "# Scale (normalise) the data series.\n",
    "# Use a copy of the category data and reset the dataframe index to be the datetime column (makes for easier splitting)\n",
    "scaled_df = category_df.copy()\n",
    "scaled_df.reset_index(inplace=True, drop=True)\n",
    "scaled_df = scaled_df.set_index(['Year-Month'])\n",
    "\n",
    "# Scaling has to be done as a whole series, otherwise train and test splits would be normalised separately.\n",
    "scaled_df[category] = min_max_scaler.fit_transform(pd.DataFrame(scaled_df[category]))\n",
    "\n",
    "# Splitting the scaled data into training and testing sets\n",
    "scaled_train = scaled_df[scaled_df.index < forecast_from_date]\n",
    "scaled_test = scaled_df[scaled_df.index >= forecast_from_date]\n",
    "\n",
    "# Define the model output\n",
    "y = scaled_train[category]\n",
    "y_label_arima = \"ARIMA Predictions\"\n",
    "\n",
    "# Define ARIMA Model\n",
    "ARIMAmodel = ARIMA(y, order = (2, 2, 2)) # Adjust as necessary\n",
    "ARIMAmodel_fit = ARIMAmodel.fit()\n",
    "\n",
    "# Generate ARIMA predictions\n",
    "y_pred_arima = ARIMAmodel_fit.get_forecast(len(scaled_test))\n",
    "y_pred_arima_df = y_pred_arima.conf_int(alpha = 0.05) \n",
    "y_pred_arima_df[y_label_arima] = ARIMAmodel_fit.predict(start = y_pred_arima_df.index[0], end = y_pred_arima_df.index[-1])\n",
    "\n",
    "# Align the index with test data\n",
    "y_pred_arima_df.index = scaled_test.index\n",
    "\n",
    "# Unscale the results ready for plotting and model performance analysis\n",
    "y_pred_arima_df[y_label_arima] = min_max_scaler.inverse_transform(pd.DataFrame(y_pred_arima_df[y_label_arima]))\n",
    "\n",
    "# Calculate and save model performance results\n",
    "\n",
    "# Calculate RMSE and R-squared for ARIMA\n",
    "rmse_arima = np.sqrt(mean_squared_error(test[category].values, y_pred_arima_df[y_label_arima]))\n",
    "rsqd_arima = r2_score(test[category].values, y_pred_arima_df[y_label_arima])\n",
    "results_arima_df[category] = [rmse_arima, rsqd_arima]"
   ]
  },
  {
   "cell_type": "markdown",
   "id": "d8bbdb0f",
   "metadata": {},
   "source": [
    "### ARIMA - summarise model performance for all Turnover categories"
   ]
  },
  {
   "cell_type": "code",
   "execution_count": 49,
   "id": "9e06d9bc",
   "metadata": {},
   "outputs": [
    {
     "data": {
      "text/html": [
       "<div>\n",
       "<style scoped>\n",
       "    .dataframe tbody tr th:only-of-type {\n",
       "        vertical-align: middle;\n",
       "    }\n",
       "\n",
       "    .dataframe tbody tr th {\n",
       "        vertical-align: top;\n",
       "    }\n",
       "\n",
       "    .dataframe thead th {\n",
       "        text-align: right;\n",
       "    }\n",
       "</style>\n",
       "<table border=\"1\" class=\"dataframe\">\n",
       "  <thead>\n",
       "    <tr style=\"text-align: right;\">\n",
       "      <th>Category</th>\n",
       "      <th>Food</th>\n",
       "      <th>Household_Goods</th>\n",
       "      <th>Clothing_and_Footware</th>\n",
       "      <th>Department_Stores</th>\n",
       "      <th>Other_Retailing</th>\n",
       "      <th>Cafes_Restaurants_TakeAway</th>\n",
       "    </tr>\n",
       "  </thead>\n",
       "  <tbody>\n",
       "    <tr>\n",
       "      <th>RMSE</th>\n",
       "      <td>187.362941</td>\n",
       "      <td>511.476138</td>\n",
       "      <td>71.555975</td>\n",
       "      <td>53.478189</td>\n",
       "      <td>359.990876</td>\n",
       "      <td>164.790027</td>\n",
       "    </tr>\n",
       "    <tr>\n",
       "      <th>R-squared</th>\n",
       "      <td>0.360237</td>\n",
       "      <td>-13.641907</td>\n",
       "      <td>-1.458126</td>\n",
       "      <td>-1.055798</td>\n",
       "      <td>-8.427291</td>\n",
       "      <td>-2.010025</td>\n",
       "    </tr>\n",
       "  </tbody>\n",
       "</table>\n",
       "</div>"
      ],
      "text/plain": [
       "Category         Food  Household_Goods  Clothing_and_Footware  \\\n",
       "RMSE       187.362941       511.476138              71.555975   \n",
       "R-squared    0.360237       -13.641907              -1.458126   \n",
       "\n",
       "Category   Department_Stores  Other_Retailing  Cafes_Restaurants_TakeAway  \n",
       "RMSE               53.478189       359.990876                  164.790027  \n",
       "R-squared          -1.055798        -8.427291                   -2.010025  "
      ]
     },
     "execution_count": 49,
     "metadata": {},
     "output_type": "execute_result"
    }
   ],
   "source": [
    "results_arima_df"
   ]
  },
  {
   "cell_type": "markdown",
   "id": "4ca464cb",
   "metadata": {},
   "source": [
    "# Time series prediction - Neural Network models"
   ]
  },
  {
   "cell_type": "markdown",
   "id": "37e5f434",
   "metadata": {},
   "source": [
    "## NeuralProphet"
   ]
  },
  {
   "cell_type": "code",
   "execution_count": 51,
   "id": "b25e48ed",
   "metadata": {},
   "outputs": [],
   "source": [
    "# Define values for NeuralProphet model hyperparameters\n",
    "epochs=300"
   ]
  },
  {
   "cell_type": "markdown",
   "id": "ab1643f9",
   "metadata": {},
   "source": [
    "### NeuralProphet - Food Retail Turnover"
   ]
  },
  {
   "cell_type": "code",
   "execution_count": 52,
   "id": "1035963b",
   "metadata": {},
   "outputs": [],
   "source": [
    "category = 'Food'\n",
    "\n",
    "# Extract the data series from the Retail Turnover dataset\n",
    "category_df = sa_turnover_df[['Year-Month', category]]\n",
    "\n",
    "# Split the unscaled training and testing sets (useful for plots later)\n",
    "# Use a copy of the category data and reset the dataframe index to be the datetime column (makes for easier splitting)\n",
    "unscaled_df = category_df.copy()\n",
    "unscaled_df.reset_index(inplace=True, drop=True)\n",
    "unscaled_df = unscaled_df.set_index(['Year-Month'])\n",
    "\n",
    "train = unscaled_df[unscaled_df.index < forecast_from_date]\n",
    "test = unscaled_df[unscaled_df.index >= forecast_from_date]\n",
    "\n",
    "# Scale (normalise) the data series.\n",
    "# Use a copy of the category data and reset the dataframe index to be the datetime column (makes for easier splitting)\n",
    "scaled_df = category_df.copy()\n",
    "\n",
    "# Scaling has to be done as a whole series, otherwise train and test splits would be normalised separately.\n",
    "scaled_df[category] = min_max_scaler.fit_transform(pd.DataFrame(scaled_df[category]))\n",
    "\n",
    "# Splitting the scaled data into training and testing sets\n",
    "scaled_train = scaled_df[scaled_df['Year-Month'] < forecast_from_date]\n",
    "scaled_test = scaled_df[scaled_df['Year-Month'] >= forecast_from_date]\n",
    "\n",
    "# Prepare training and testing data in input format required by NeuralProphet\n",
    "np_train = scaled_train[['Year-Month', category]].rename(columns={'Year-Month': 'ds', category: 'y'})\n",
    "np_test  =  scaled_test[['Year-Month', category]].rename(columns={'Year-Month': 'ds', category: 'y'})"
   ]
  },
  {
   "cell_type": "code",
   "execution_count": 53,
   "id": "1d141375",
   "metadata": {},
   "outputs": [
    {
     "name": "stderr",
     "output_type": "stream",
     "text": [
      "WARNING - (NP.forecaster.fit) - When Global modeling with local normalization, metrics are displayed in normalized scale.\n",
      "INFO - (NP.df_utils._infer_frequency) - Major frequency MS corresponds to [99.794]% of the data.\n",
      "INFO - (NP.df_utils._infer_frequency) - Defined frequency is equal to major frequency - MS\n",
      "INFO - (NP.config.init_data_params) - Setting normalization to global as only one dataframe provided for training.\n",
      "INFO - (NP.utils.set_auto_seasonalities) - Disabling weekly seasonality. Run NeuralProphet with weekly_seasonality=True to override this.\n",
      "INFO - (NP.utils.set_auto_seasonalities) - Disabling daily seasonality. Run NeuralProphet with daily_seasonality=True to override this.\n",
      "INFO - (NP.config.set_auto_batch_epoch) - Auto-set batch_size to 32\n"
     ]
    },
    {
     "data": {
      "application/vnd.jupyter.widget-view+json": {
       "model_id": "b908a727bcaf46b684a5f44e7ef364cb",
       "version_major": 2,
       "version_minor": 0
      },
      "text/plain": [
       "Training: |                                                                                                   …"
      ]
     },
     "metadata": {},
     "output_type": "display_data"
    },
    {
     "name": "stderr",
     "output_type": "stream",
     "text": [
      "WARNING - (NP.config.set_lr_finder_args) - Learning rate finder: The number of batches (16) is too small than the required number                     for the learning rate finder (219). The results might not be optimal.\n"
     ]
    },
    {
     "data": {
      "application/vnd.jupyter.widget-view+json": {
       "model_id": "76c49c30d2944114b8fe3874a3780ecc",
       "version_major": 2,
       "version_minor": 0
      },
      "text/plain": [
       "Finding best initial lr:   0%|          | 0/219 [00:00<?, ?it/s]"
      ]
     },
     "metadata": {},
     "output_type": "display_data"
    },
    {
     "data": {
      "application/vnd.jupyter.widget-view+json": {
       "model_id": "aacb48c405904e60b6a3fda8120bf48a",
       "version_major": 2,
       "version_minor": 0
      },
      "text/plain": [
       "Training: |                                                                                                   …"
      ]
     },
     "metadata": {},
     "output_type": "display_data"
    }
   ],
   "source": [
    "# Create and train NeuralProphet model\n",
    "np_model = NeuralProphet()\n",
    "metrics = np_model.fit(np_train, freq='MS', epochs=epochs)\n"
   ]
  },
  {
   "cell_type": "code",
   "execution_count": 57,
   "id": "99aad472",
   "metadata": {
    "scrolled": false
   },
   "outputs": [
    {
     "name": "stderr",
     "output_type": "stream",
     "text": [
      "INFO - (NP.df_utils._infer_frequency) - Major frequency MS corresponds to [99.794]% of the data.\n",
      "INFO - (NP.df_utils._infer_frequency) - Defined frequency is equal to major frequency - MS\n",
      "INFO - (NP.df_utils.return_df_in_original_format) - Returning df with no ID column\n"
     ]
    }
   ],
   "source": [
    "# Create a blank 'future' dataframe to hold the NeuralProphet predictions for our forecast period\n",
    "np_future_df = np_model.make_future_dataframe(np_train, periods=len(np_test))"
   ]
  },
  {
   "cell_type": "code",
   "execution_count": 58,
   "id": "60dcad61",
   "metadata": {
    "scrolled": true
   },
   "outputs": [
    {
     "name": "stderr",
     "output_type": "stream",
     "text": [
      "INFO - (NP.df_utils._infer_frequency) - Major frequency MS corresponds to [95.833]% of the data.\n",
      "INFO - (NP.df_utils._infer_frequency) - Defined frequency is equal to major frequency - MS\n",
      "INFO - (NP.df_utils._infer_frequency) - Major frequency MS corresponds to [95.833]% of the data.\n",
      "INFO - (NP.df_utils._infer_frequency) - Defined frequency is equal to major frequency - MS\n"
     ]
    },
    {
     "data": {
      "application/vnd.jupyter.widget-view+json": {
       "model_id": "52884ba0454245e8a30b22dfb8b03b4a",
       "version_major": 2,
       "version_minor": 0
      },
      "text/plain": [
       "Predicting: |                                                                                                 …"
      ]
     },
     "metadata": {},
     "output_type": "display_data"
    },
    {
     "name": "stderr",
     "output_type": "stream",
     "text": [
      "INFO - (NP.df_utils.return_df_in_original_format) - Returning df with no ID column\n"
     ]
    }
   ],
   "source": [
    "# Calculate the forecast (predictions)\n",
    "forecast = np_model.predict(np_future_df)"
   ]
  },
  {
   "cell_type": "code",
   "execution_count": 68,
   "id": "1e02ec89",
   "metadata": {
    "scrolled": true
   },
   "outputs": [],
   "source": [
    "# Prepare unscaled prediction results\n",
    "np_forecast_df = forecast[['ds','yhat1']]\n",
    "np_forecast_df['yhat1'] = min_max_scaler.inverse_transform(pd.DataFrame(pd.DataFrame(np_forecast_df['yhat1'])))\n",
    "np_forecast_df = np_forecast_df.set_index(['ds'])"
   ]
  },
  {
   "cell_type": "code",
   "execution_count": 70,
   "id": "903a1c58",
   "metadata": {},
   "outputs": [],
   "source": [
    "# Create new dataframe for plotting train/test results\n",
    "y_pred_np_df = np_test.copy()\n",
    "y_pred_np_df = y_pred_np_df.set_index(['ds'])\n",
    "y_pred_np_df = pd.concat([y_pred_np_df, np_forecast_df], axis=1)"
   ]
  },
  {
   "cell_type": "code",
   "execution_count": 71,
   "id": "d3bc3801",
   "metadata": {},
   "outputs": [
    {
     "data": {
      "image/png": "[encoded data removed]",
      "text/plain": [
       "<Figure size 1200x600 with 1 Axes>"
      ]
     },
     "metadata": {},
     "output_type": "display_data"
    }
   ],
   "source": [
    "# Define the output\n",
    "y = train[category]\n",
    "y_label_np = \"Neural Prophet Predictions\"\n",
    "\n",
    "# Plot the Results\n",
    "# Plotting the train and test sets\n",
    "figure, axes = plt.subplots(figsize=(12, 6))  # Adjust the figure size to take up more of the page\n",
    "axes.xaxis.set_major_formatter(mdates.DateFormatter('%Y-%m'))\n",
    "\n",
    "plt.plot(train.index, train[category], label='Train', color='black')\n",
    "plt.plot(test.index, test[category], label='Test', color='red')\n",
    "\n",
    "# Plot the Neural Prophet predictions\n",
    "plt.plot(y_pred_np_df.index, y_pred_np_df['yhat1'], color='blue', label=y_label_np)\n",
    "\n",
    "# Labels and Title\n",
    "plt.title(f'NeuralProphet Predictions for {category} Retailing, Seasonally Adjusted')\n",
    "plt.ylabel('Turnover in Million AUD')\n",
    "plt.xlabel('Year-Month')\n",
    "plt.xticks(rotation=45)\n",
    "plt.legend()\n",
    "# plt.tight_layout()  # Adjust layout to prevent clipping\n",
    "plt.show()"
   ]
  },
  {
   "cell_type": "code",
   "execution_count": 72,
   "id": "49d4e347",
   "metadata": {},
   "outputs": [],
   "source": [
    "# Calculate and save model performance results\n",
    "\n",
    "# Calculate RMSE and R-squared for NeuralProphet \n",
    "rmse_np = np.sqrt(mean_squared_error(test[category].values, y_pred_np_df['yhat1']))\n",
    "rsqd_np = r2_score(test[category].values, y_pred_np_df['yhat1'])\n",
    "results_np_df[category] = [rmse_np, rsqd_np]\n"
   ]
  },
  {
   "cell_type": "markdown",
   "id": "26a7652f",
   "metadata": {},
   "source": [
    "### NeuralProphet - repeat the analysis for other Retail Turnover categories"
   ]
  },
  {
   "cell_type": "code",
   "execution_count": 73,
   "id": "0d8296fd",
   "metadata": {},
   "outputs": [
    {
     "name": "stderr",
     "output_type": "stream",
     "text": [
      "WARNING - (NP.forecaster.fit) - When Global modeling with local normalization, metrics are displayed in normalized scale.\n",
      "INFO - (NP.df_utils._infer_frequency) - Major frequency MS corresponds to [99.794]% of the data.\n",
      "INFO - (NP.df_utils._infer_frequency) - Defined frequency is equal to major frequency - MS\n",
      "INFO - (NP.config.init_data_params) - Setting normalization to global as only one dataframe provided for training.\n",
      "INFO - (NP.utils.set_auto_seasonalities) - Disabling weekly seasonality. Run NeuralProphet with weekly_seasonality=True to override this.\n",
      "INFO - (NP.utils.set_auto_seasonalities) - Disabling daily seasonality. Run NeuralProphet with daily_seasonality=True to override this.\n",
      "INFO - (NP.config.set_auto_batch_epoch) - Auto-set batch_size to 32\n"
     ]
    },
    {
     "data": {
      "application/vnd.jupyter.widget-view+json": {
       "model_id": "17fecd8b556047bab51a3f7dc730961e",
       "version_major": 2,
       "version_minor": 0
      },
      "text/plain": [
       "Training: |                                                                                                   …"
      ]
     },
     "metadata": {},
     "output_type": "display_data"
    },
    {
     "name": "stderr",
     "output_type": "stream",
     "text": [
      "WARNING - (NP.config.set_lr_finder_args) - Learning rate finder: The number of batches (16) is too small than the required number                     for the learning rate finder (219). The results might not be optimal.\n"
     ]
    },
    {
     "data": {
      "application/vnd.jupyter.widget-view+json": {
       "model_id": "3cfcb8f789ce43b2ae6e3441326a3882",
       "version_major": 2,
       "version_minor": 0
      },
      "text/plain": [
       "Finding best initial lr:   0%|          | 0/219 [00:00<?, ?it/s]"
      ]
     },
     "metadata": {},
     "output_type": "display_data"
    },
    {
     "data": {
      "application/vnd.jupyter.widget-view+json": {
       "model_id": "9adfd9a66fec4d7d8d35bf4cf2ed4743",
       "version_major": 2,
       "version_minor": 0
      },
      "text/plain": [
       "Training: |                                                                                                   …"
      ]
     },
     "metadata": {},
     "output_type": "display_data"
    },
    {
     "name": "stderr",
     "output_type": "stream",
     "text": [
      "INFO - (NP.df_utils._infer_frequency) - Major frequency MS corresponds to [99.794]% of the data.\n",
      "INFO - (NP.df_utils._infer_frequency) - Defined frequency is equal to major frequency - MS\n",
      "INFO - (NP.df_utils.return_df_in_original_format) - Returning df with no ID column\n",
      "INFO - (NP.df_utils._infer_frequency) - Major frequency MS corresponds to [95.833]% of the data.\n",
      "INFO - (NP.df_utils._infer_frequency) - Defined frequency is equal to major frequency - MS\n",
      "INFO - (NP.df_utils._infer_frequency) - Major frequency MS corresponds to [95.833]% of the data.\n",
      "INFO - (NP.df_utils._infer_frequency) - Defined frequency is equal to major frequency - MS\n"
     ]
    },
    {
     "data": {
      "application/vnd.jupyter.widget-view+json": {
       "model_id": "27da8db6d613403e95e5aa9b2b4535e5",
       "version_major": 2,
       "version_minor": 0
      },
      "text/plain": [
       "Predicting: |                                                                                                 …"
      ]
     },
     "metadata": {},
     "output_type": "display_data"
    },
    {
     "name": "stderr",
     "output_type": "stream",
     "text": [
      "INFO - (NP.df_utils.return_df_in_original_format) - Returning df with no ID column\n"
     ]
    }
   ],
   "source": [
    "category = 'Household_Goods'\n",
    "\n",
    "# Extract the data series from the Retail Turnover dataset\n",
    "category_df = sa_turnover_df[['Year-Month', category]]\n",
    "\n",
    "# Split the unscaled training and testing sets (useful for plots later)\n",
    "# Use a copy of the category data and reset the dataframe index to be the datetime column (makes for easier splitting)\n",
    "unscaled_df = category_df.copy()\n",
    "unscaled_df.reset_index(inplace=True, drop=True)\n",
    "unscaled_df = unscaled_df.set_index(['Year-Month'])\n",
    "\n",
    "train = unscaled_df[unscaled_df.index < forecast_from_date]\n",
    "test = unscaled_df[unscaled_df.index >= forecast_from_date]\n",
    "\n",
    "# Scale (normalise) the data series.\n",
    "# Use a copy of the category data and reset the dataframe index to be the datetime column (makes for easier splitting)\n",
    "scaled_df = category_df.copy()\n",
    "\n",
    "# Scaling has to be done as a whole series, otherwise train and test splits would be normalised separately.\n",
    "scaled_df[category] = min_max_scaler.fit_transform(pd.DataFrame(scaled_df[category]))\n",
    "\n",
    "# Splitting the scaled data into training and testing sets\n",
    "scaled_train = scaled_df[scaled_df['Year-Month'] < forecast_from_date]\n",
    "scaled_test = scaled_df[scaled_df['Year-Month'] >= forecast_from_date]\n",
    "\n",
    "# Prepare training and testing data in input format required by NeuralProphet\n",
    "np_train = scaled_train[['Year-Month', category]].rename(columns={'Year-Month': 'ds', category: 'y'})\n",
    "np_test  =  scaled_test[['Year-Month', category]].rename(columns={'Year-Month': 'ds', category: 'y'})\n",
    "\n",
    "# Create and train NeuralProphet model\n",
    "np_model = NeuralProphet()\n",
    "metrics = np_model.fit(np_train, freq='MS', epochs=epochs)\n",
    "\n",
    "# Create a blank 'future' dataframe to hold the NeuralProphet predictions for our forecast period\n",
    "np_future_df = np_model.make_future_dataframe(np_train, periods=len(np_test))\n",
    "\n",
    "# Calculate the forecast (predictions)\n",
    "forecast = np_model.predict(np_future_df)\n",
    "\n",
    "# Prepare unscaled prediction results\n",
    "np_forecast_df = forecast[['ds','yhat1']]\n",
    "np_forecast_df['yhat1'] = min_max_scaler.inverse_transform(pd.DataFrame(pd.DataFrame(np_forecast_df['yhat1'])))\n",
    "np_forecast_df = np_forecast_df.set_index(['ds'])\n",
    "\n",
    "# Create new dataframe for plotting train/test results\n",
    "y_pred_np_df = np_test.copy()\n",
    "y_pred_np_df = y_pred_np_df.set_index(['ds'])\n",
    "y_pred_np_df = pd.concat([y_pred_np_df, np_forecast_df], axis=1)\n",
    "\n",
    "# Calculate and save model performance results\n",
    "\n",
    "# Calculate RMSE and R-squared for NeuralProphet \n",
    "rmse_np = np.sqrt(mean_squared_error(test[category].values, y_pred_np_df['yhat1']))\n",
    "rsqd_np = r2_score(test[category].values, y_pred_np_df['yhat1'])\n",
    "results_np_df[category] = [rmse_np, rsqd_np]"
   ]
  },
  {
   "cell_type": "code",
   "execution_count": 74,
   "id": "eb501144",
   "metadata": {},
   "outputs": [
    {
     "name": "stderr",
     "output_type": "stream",
     "text": [
      "WARNING - (NP.forecaster.fit) - When Global modeling with local normalization, metrics are displayed in normalized scale.\n",
      "INFO - (NP.df_utils._infer_frequency) - Major frequency MS corresponds to [99.794]% of the data.\n",
      "INFO - (NP.df_utils._infer_frequency) - Defined frequency is equal to major frequency - MS\n",
      "INFO - (NP.config.init_data_params) - Setting normalization to global as only one dataframe provided for training.\n",
      "INFO - (NP.utils.set_auto_seasonalities) - Disabling weekly seasonality. Run NeuralProphet with weekly_seasonality=True to override this.\n",
      "INFO - (NP.utils.set_auto_seasonalities) - Disabling daily seasonality. Run NeuralProphet with daily_seasonality=True to override this.\n",
      "INFO - (NP.config.set_auto_batch_epoch) - Auto-set batch_size to 32\n"
     ]
    },
    {
     "data": {
      "application/vnd.jupyter.widget-view+json": {
       "model_id": "0bb82ce406d84f55ba92bd7c279eb3e3",
       "version_major": 2,
       "version_minor": 0
      },
      "text/plain": [
       "Training: |                                                                                                   …"
      ]
     },
     "metadata": {},
     "output_type": "display_data"
    },
    {
     "name": "stderr",
     "output_type": "stream",
     "text": [
      "WARNING - (NP.config.set_lr_finder_args) - Learning rate finder: The number of batches (16) is too small than the required number                     for the learning rate finder (219). The results might not be optimal.\n"
     ]
    },
    {
     "data": {
      "application/vnd.jupyter.widget-view+json": {
       "model_id": "e5495a10ec9449a5af1edbf67dbf7005",
       "version_major": 2,
       "version_minor": 0
      },
      "text/plain": [
       "Finding best initial lr:   0%|          | 0/219 [00:00<?, ?it/s]"
      ]
     },
     "metadata": {},
     "output_type": "display_data"
    },
    {
     "data": {
      "application/vnd.jupyter.widget-view+json": {
       "model_id": "20cd254857a04e839166e311f0b75022",
       "version_major": 2,
       "version_minor": 0
      },
      "text/plain": [
       "Training: |                                                                                                   …"
      ]
     },
     "metadata": {},
     "output_type": "display_data"
    },
    {
     "name": "stderr",
     "output_type": "stream",
     "text": [
      "INFO - (NP.df_utils._infer_frequency) - Major frequency MS corresponds to [99.794]% of the data.\n",
      "INFO - (NP.df_utils._infer_frequency) - Defined frequency is equal to major frequency - MS\n",
      "INFO - (NP.df_utils.return_df_in_original_format) - Returning df with no ID column\n",
      "INFO - (NP.df_utils._infer_frequency) - Major frequency MS corresponds to [95.833]% of the data.\n",
      "INFO - (NP.df_utils._infer_frequency) - Defined frequency is equal to major frequency - MS\n",
      "INFO - (NP.df_utils._infer_frequency) - Major frequency MS corresponds to [95.833]% of the data.\n",
      "INFO - (NP.df_utils._infer_frequency) - Defined frequency is equal to major frequency - MS\n"
     ]
    },
    {
     "data": {
      "application/vnd.jupyter.widget-view+json": {
       "model_id": "9f992d15c2864b78b9d84bbdc987b9ef",
       "version_major": 2,
       "version_minor": 0
      },
      "text/plain": [
       "Predicting: |                                                                                                 …"
      ]
     },
     "metadata": {},
     "output_type": "display_data"
    },
    {
     "name": "stderr",
     "output_type": "stream",
     "text": [
      "INFO - (NP.df_utils.return_df_in_original_format) - Returning df with no ID column\n"
     ]
    }
   ],
   "source": [
    "category = 'Clothing_and_Footware'\n",
    "\n",
    "# Extract the data series from the Retail Turnover dataset\n",
    "category_df = sa_turnover_df[['Year-Month', category]]\n",
    "\n",
    "# Split the unscaled training and testing sets (useful for plots later)\n",
    "# Use a copy of the category data and reset the dataframe index to be the datetime column (makes for easier splitting)\n",
    "unscaled_df = category_df.copy()\n",
    "unscaled_df.reset_index(inplace=True, drop=True)\n",
    "unscaled_df = unscaled_df.set_index(['Year-Month'])\n",
    "\n",
    "train = unscaled_df[unscaled_df.index < forecast_from_date]\n",
    "test = unscaled_df[unscaled_df.index >= forecast_from_date]\n",
    "\n",
    "# Scale (normalise) the data series.\n",
    "# Use a copy of the category data and reset the dataframe index to be the datetime column (makes for easier splitting)\n",
    "scaled_df = category_df.copy()\n",
    "\n",
    "# Scaling has to be done as a whole series, otherwise train and test splits would be normalised separately.\n",
    "scaled_df[category] = min_max_scaler.fit_transform(pd.DataFrame(scaled_df[category]))\n",
    "\n",
    "# Splitting the scaled data into training and testing sets\n",
    "scaled_train = scaled_df[scaled_df['Year-Month'] < forecast_from_date]\n",
    "scaled_test = scaled_df[scaled_df['Year-Month'] >= forecast_from_date]\n",
    "\n",
    "# Prepare training and testing data in input format required by NeuralProphet\n",
    "np_train = scaled_train[['Year-Month', category]].rename(columns={'Year-Month': 'ds', category: 'y'})\n",
    "np_test  =  scaled_test[['Year-Month', category]].rename(columns={'Year-Month': 'ds', category: 'y'})\n",
    "\n",
    "# Create and train NeuralProphet model\n",
    "np_model = NeuralProphet()\n",
    "metrics = np_model.fit(np_train, freq='MS', epochs=epochs)\n",
    "\n",
    "# Create a blank 'future' dataframe to hold the NeuralProphet predictions for our forecast period\n",
    "np_future_df = np_model.make_future_dataframe(np_train, periods=len(np_test))\n",
    "\n",
    "# Calculate the forecast (predictions)\n",
    "forecast = np_model.predict(np_future_df)\n",
    "\n",
    "# Prepare unscaled prediction results\n",
    "np_forecast_df = forecast[['ds','yhat1']]\n",
    "np_forecast_df['yhat1'] = min_max_scaler.inverse_transform(pd.DataFrame(pd.DataFrame(np_forecast_df['yhat1'])))\n",
    "np_forecast_df = np_forecast_df.set_index(['ds'])\n",
    "\n",
    "# Create new dataframe for plotting train/test results\n",
    "y_pred_np_df = np_test.copy()\n",
    "y_pred_np_df = y_pred_np_df.set_index(['ds'])\n",
    "y_pred_np_df = pd.concat([y_pred_np_df, np_forecast_df], axis=1)\n",
    "\n",
    "# Calculate and save model performance results\n",
    "\n",
    "# Calculate RMSE and R-squared for NeuralProphet \n",
    "rmse_np = np.sqrt(mean_squared_error(test[category].values, y_pred_np_df['yhat1']))\n",
    "rsqd_np = r2_score(test[category].values, y_pred_np_df['yhat1'])\n",
    "results_np_df[category] = [rmse_np, rsqd_np]"
   ]
  },
  {
   "cell_type": "code",
   "execution_count": 75,
   "id": "dc9da274",
   "metadata": {},
   "outputs": [
    {
     "name": "stderr",
     "output_type": "stream",
     "text": [
      "WARNING - (NP.forecaster.fit) - When Global modeling with local normalization, metrics are displayed in normalized scale.\n",
      "INFO - (NP.df_utils._infer_frequency) - Major frequency MS corresponds to [99.794]% of the data.\n",
      "INFO - (NP.df_utils._infer_frequency) - Defined frequency is equal to major frequency - MS\n",
      "INFO - (NP.config.init_data_params) - Setting normalization to global as only one dataframe provided for training.\n",
      "INFO - (NP.utils.set_auto_seasonalities) - Disabling weekly seasonality. Run NeuralProphet with weekly_seasonality=True to override this.\n",
      "INFO - (NP.utils.set_auto_seasonalities) - Disabling daily seasonality. Run NeuralProphet with daily_seasonality=True to override this.\n",
      "INFO - (NP.config.set_auto_batch_epoch) - Auto-set batch_size to 32\n"
     ]
    },
    {
     "data": {
      "application/vnd.jupyter.widget-view+json": {
       "model_id": "7f4d807803894dc1b1360590ef4a57bd",
       "version_major": 2,
       "version_minor": 0
      },
      "text/plain": [
       "Training: |                                                                                                   …"
      ]
     },
     "metadata": {},
     "output_type": "display_data"
    },
    {
     "name": "stderr",
     "output_type": "stream",
     "text": [
      "WARNING - (NP.config.set_lr_finder_args) - Learning rate finder: The number of batches (16) is too small than the required number                     for the learning rate finder (219). The results might not be optimal.\n"
     ]
    },
    {
     "data": {
      "application/vnd.jupyter.widget-view+json": {
       "model_id": "5917a488edfa49e69ea0a8b9d4609766",
       "version_major": 2,
       "version_minor": 0
      },
      "text/plain": [
       "Finding best initial lr:   0%|          | 0/219 [00:00<?, ?it/s]"
      ]
     },
     "metadata": {},
     "output_type": "display_data"
    },
    {
     "data": {
      "application/vnd.jupyter.widget-view+json": {
       "model_id": "0bce48ea8af94a14bacb16a5b384754e",
       "version_major": 2,
       "version_minor": 0
      },
      "text/plain": [
       "Training: |                                                                                                   …"
      ]
     },
     "metadata": {},
     "output_type": "display_data"
    },
    {
     "name": "stderr",
     "output_type": "stream",
     "text": [
      "INFO - (NP.df_utils._infer_frequency) - Major frequency MS corresponds to [99.794]% of the data.\n",
      "INFO - (NP.df_utils._infer_frequency) - Defined frequency is equal to major frequency - MS\n",
      "INFO - (NP.df_utils.return_df_in_original_format) - Returning df with no ID column\n",
      "INFO - (NP.df_utils._infer_frequency) - Major frequency MS corresponds to [95.833]% of the data.\n",
      "INFO - (NP.df_utils._infer_frequency) - Defined frequency is equal to major frequency - MS\n",
      "INFO - (NP.df_utils._infer_frequency) - Major frequency MS corresponds to [95.833]% of the data.\n",
      "INFO - (NP.df_utils._infer_frequency) - Defined frequency is equal to major frequency - MS\n"
     ]
    },
    {
     "data": {
      "application/vnd.jupyter.widget-view+json": {
       "model_id": "abc3928c591b423387378201db2b4f34",
       "version_major": 2,
       "version_minor": 0
      },
      "text/plain": [
       "Predicting: |                                                                                                 …"
      ]
     },
     "metadata": {},
     "output_type": "display_data"
    },
    {
     "name": "stderr",
     "output_type": "stream",
     "text": [
      "INFO - (NP.df_utils.return_df_in_original_format) - Returning df with no ID column\n"
     ]
    }
   ],
   "source": [
    "category = 'Department_Stores'\n",
    "\n",
    "# Extract the data series from the Retail Turnover dataset\n",
    "category_df = sa_turnover_df[['Year-Month', category]]\n",
    "\n",
    "# Split the unscaled training and testing sets (useful for plots later)\n",
    "# Use a copy of the category data and reset the dataframe index to be the datetime column (makes for easier splitting)\n",
    "unscaled_df = category_df.copy()\n",
    "unscaled_df.reset_index(inplace=True, drop=True)\n",
    "unscaled_df = unscaled_df.set_index(['Year-Month'])\n",
    "\n",
    "train = unscaled_df[unscaled_df.index < forecast_from_date]\n",
    "test = unscaled_df[unscaled_df.index >= forecast_from_date]\n",
    "\n",
    "# Scale (normalise) the data series.\n",
    "# Use a copy of the category data and reset the dataframe index to be the datetime column (makes for easier splitting)\n",
    "scaled_df = category_df.copy()\n",
    "\n",
    "# Scaling has to be done as a whole series, otherwise train and test splits would be normalised separately.\n",
    "scaled_df[category] = min_max_scaler.fit_transform(pd.DataFrame(scaled_df[category]))\n",
    "\n",
    "# Splitting the scaled data into training and testing sets\n",
    "scaled_train = scaled_df[scaled_df['Year-Month'] < forecast_from_date]\n",
    "scaled_test = scaled_df[scaled_df['Year-Month'] >= forecast_from_date]\n",
    "\n",
    "# Prepare training and testing data in input format required by NeuralProphet\n",
    "np_train = scaled_train[['Year-Month', category]].rename(columns={'Year-Month': 'ds', category: 'y'})\n",
    "np_test  =  scaled_test[['Year-Month', category]].rename(columns={'Year-Month': 'ds', category: 'y'})\n",
    "\n",
    "# Create and train NeuralProphet model\n",
    "np_model = NeuralProphet()\n",
    "metrics = np_model.fit(np_train, freq='MS', epochs=epochs)\n",
    "\n",
    "# Create a blank 'future' dataframe to hold the NeuralProphet predictions for our forecast period\n",
    "np_future_df = np_model.make_future_dataframe(np_train, periods=len(np_test))\n",
    "\n",
    "# Calculate the forecast (predictions)\n",
    "forecast = np_model.predict(np_future_df)\n",
    "\n",
    "# Prepare unscaled prediction results\n",
    "np_forecast_df = forecast[['ds','yhat1']]\n",
    "np_forecast_df['yhat1'] = min_max_scaler.inverse_transform(pd.DataFrame(pd.DataFrame(np_forecast_df['yhat1'])))\n",
    "np_forecast_df = np_forecast_df.set_index(['ds'])\n",
    "\n",
    "# Create new dataframe for plotting train/test results\n",
    "y_pred_np_df = np_test.copy()\n",
    "y_pred_np_df = y_pred_np_df.set_index(['ds'])\n",
    "y_pred_np_df = pd.concat([y_pred_np_df, np_forecast_df], axis=1)\n",
    "\n",
    "# Calculate and save model performance results\n",
    "\n",
    "# Calculate RMSE and R-squared for NeuralProphet \n",
    "rmse_np = np.sqrt(mean_squared_error(test[category].values, y_pred_np_df['yhat1']))\n",
    "rsqd_np = r2_score(test[category].values, y_pred_np_df['yhat1'])\n",
    "results_np_df[category] = [rmse_np, rsqd_np]"
   ]
  },
  {
   "cell_type": "code",
   "execution_count": 76,
   "id": "e2ae93cd",
   "metadata": {},
   "outputs": [
    {
     "name": "stderr",
     "output_type": "stream",
     "text": [
      "WARNING - (NP.forecaster.fit) - When Global modeling with local normalization, metrics are displayed in normalized scale.\n",
      "INFO - (NP.df_utils._infer_frequency) - Major frequency MS corresponds to [99.794]% of the data.\n",
      "INFO - (NP.df_utils._infer_frequency) - Defined frequency is equal to major frequency - MS\n",
      "INFO - (NP.config.init_data_params) - Setting normalization to global as only one dataframe provided for training.\n",
      "INFO - (NP.utils.set_auto_seasonalities) - Disabling weekly seasonality. Run NeuralProphet with weekly_seasonality=True to override this.\n",
      "INFO - (NP.utils.set_auto_seasonalities) - Disabling daily seasonality. Run NeuralProphet with daily_seasonality=True to override this.\n",
      "INFO - (NP.config.set_auto_batch_epoch) - Auto-set batch_size to 32\n"
     ]
    },
    {
     "data": {
      "application/vnd.jupyter.widget-view+json": {
       "model_id": "090645c7778d460b89c95dd616f485d0",
       "version_major": 2,
       "version_minor": 0
      },
      "text/plain": [
       "Training: |                                                                                                   …"
      ]
     },
     "metadata": {},
     "output_type": "display_data"
    },
    {
     "name": "stderr",
     "output_type": "stream",
     "text": [
      "WARNING - (NP.config.set_lr_finder_args) - Learning rate finder: The number of batches (16) is too small than the required number                     for the learning rate finder (219). The results might not be optimal.\n"
     ]
    },
    {
     "data": {
      "application/vnd.jupyter.widget-view+json": {
       "model_id": "ee7d6a689d7c4c8ca3d724d9b123585c",
       "version_major": 2,
       "version_minor": 0
      },
      "text/plain": [
       "Finding best initial lr:   0%|          | 0/219 [00:00<?, ?it/s]"
      ]
     },
     "metadata": {},
     "output_type": "display_data"
    },
    {
     "data": {
      "application/vnd.jupyter.widget-view+json": {
       "model_id": "e921f15ea9774e91ae3a121580ed8ae5",
       "version_major": 2,
       "version_minor": 0
      },
      "text/plain": [
       "Training: |                                                                                                   …"
      ]
     },
     "metadata": {},
     "output_type": "display_data"
    },
    {
     "name": "stderr",
     "output_type": "stream",
     "text": [
      "INFO - (NP.df_utils._infer_frequency) - Major frequency MS corresponds to [99.794]% of the data.\n",
      "INFO - (NP.df_utils._infer_frequency) - Defined frequency is equal to major frequency - MS\n",
      "INFO - (NP.df_utils.return_df_in_original_format) - Returning df with no ID column\n",
      "INFO - (NP.df_utils._infer_frequency) - Major frequency MS corresponds to [95.833]% of the data.\n",
      "INFO - (NP.df_utils._infer_frequency) - Defined frequency is equal to major frequency - MS\n",
      "INFO - (NP.df_utils._infer_frequency) - Major frequency MS corresponds to [95.833]% of the data.\n",
      "INFO - (NP.df_utils._infer_frequency) - Defined frequency is equal to major frequency - MS\n"
     ]
    },
    {
     "data": {
      "application/vnd.jupyter.widget-view+json": {
       "model_id": "3f2d92d3a5224fb8abaafada5d90ad38",
       "version_major": 2,
       "version_minor": 0
      },
      "text/plain": [
       "Predicting: |                                                                                                 …"
      ]
     },
     "metadata": {},
     "output_type": "display_data"
    },
    {
     "name": "stderr",
     "output_type": "stream",
     "text": [
      "INFO - (NP.df_utils.return_df_in_original_format) - Returning df with no ID column\n"
     ]
    }
   ],
   "source": [
    "category = 'Other_Retailing'\n",
    "\n",
    "# Extract the data series from the Retail Turnover dataset\n",
    "category_df = sa_turnover_df[['Year-Month', category]]\n",
    "\n",
    "# Split the unscaled training and testing sets (useful for plots later)\n",
    "# Use a copy of the category data and reset the dataframe index to be the datetime column (makes for easier splitting)\n",
    "unscaled_df = category_df.copy()\n",
    "unscaled_df.reset_index(inplace=True, drop=True)\n",
    "unscaled_df = unscaled_df.set_index(['Year-Month'])\n",
    "\n",
    "train = unscaled_df[unscaled_df.index < forecast_from_date]\n",
    "test = unscaled_df[unscaled_df.index >= forecast_from_date]\n",
    "\n",
    "# Scale (normalise) the data series.\n",
    "# Use a copy of the category data and reset the dataframe index to be the datetime column (makes for easier splitting)\n",
    "scaled_df = category_df.copy()\n",
    "\n",
    "# Scaling has to be done as a whole series, otherwise train and test splits would be normalised separately.\n",
    "scaled_df[category] = min_max_scaler.fit_transform(pd.DataFrame(scaled_df[category]))\n",
    "\n",
    "# Splitting the scaled data into training and testing sets\n",
    "scaled_train = scaled_df[scaled_df['Year-Month'] < forecast_from_date]\n",
    "scaled_test = scaled_df[scaled_df['Year-Month'] >= forecast_from_date]\n",
    "\n",
    "# Prepare training and testing data in input format required by NeuralProphet\n",
    "np_train = scaled_train[['Year-Month', category]].rename(columns={'Year-Month': 'ds', category: 'y'})\n",
    "np_test  =  scaled_test[['Year-Month', category]].rename(columns={'Year-Month': 'ds', category: 'y'})\n",
    "\n",
    "# Create and train NeuralProphet model\n",
    "np_model = NeuralProphet()\n",
    "metrics = np_model.fit(np_train, freq='MS', epochs=epochs)\n",
    "\n",
    "# Create a blank 'future' dataframe to hold the NeuralProphet predictions for our forecast period\n",
    "np_future_df = np_model.make_future_dataframe(np_train, periods=len(np_test))\n",
    "\n",
    "# Calculate the forecast (predictions)\n",
    "forecast = np_model.predict(np_future_df)\n",
    "\n",
    "# Prepare unscaled prediction results\n",
    "np_forecast_df = forecast[['ds','yhat1']]\n",
    "np_forecast_df['yhat1'] = min_max_scaler.inverse_transform(pd.DataFrame(pd.DataFrame(np_forecast_df['yhat1'])))\n",
    "np_forecast_df = np_forecast_df.set_index(['ds'])\n",
    "\n",
    "# Create new dataframe for plotting train/test results\n",
    "y_pred_np_df = np_test.copy()\n",
    "y_pred_np_df = y_pred_np_df.set_index(['ds'])\n",
    "y_pred_np_df = pd.concat([y_pred_np_df, np_forecast_df], axis=1)\n",
    "\n",
    "# Calculate and save model performance results\n",
    "\n",
    "# Calculate RMSE and R-squared for NeuralProphet \n",
    "rmse_np = np.sqrt(mean_squared_error(test[category].values, y_pred_np_df['yhat1']))\n",
    "rsqd_np = r2_score(test[category].values, y_pred_np_df['yhat1'])\n",
    "results_np_df[category] = [rmse_np, rsqd_np]"
   ]
  },
  {
   "cell_type": "code",
   "execution_count": 77,
   "id": "ed4dc566",
   "metadata": {},
   "outputs": [
    {
     "name": "stderr",
     "output_type": "stream",
     "text": [
      "WARNING - (NP.forecaster.fit) - When Global modeling with local normalization, metrics are displayed in normalized scale.\n",
      "INFO - (NP.df_utils._infer_frequency) - Major frequency MS corresponds to [99.794]% of the data.\n",
      "INFO - (NP.df_utils._infer_frequency) - Defined frequency is equal to major frequency - MS\n",
      "INFO - (NP.config.init_data_params) - Setting normalization to global as only one dataframe provided for training.\n",
      "INFO - (NP.utils.set_auto_seasonalities) - Disabling weekly seasonality. Run NeuralProphet with weekly_seasonality=True to override this.\n",
      "INFO - (NP.utils.set_auto_seasonalities) - Disabling daily seasonality. Run NeuralProphet with daily_seasonality=True to override this.\n",
      "INFO - (NP.config.set_auto_batch_epoch) - Auto-set batch_size to 32\n"
     ]
    },
    {
     "data": {
      "application/vnd.jupyter.widget-view+json": {
       "model_id": "737f83aec4944d93b8a48c9b6eefe5d5",
       "version_major": 2,
       "version_minor": 0
      },
      "text/plain": [
       "Training: |                                                                                                   …"
      ]
     },
     "metadata": {},
     "output_type": "display_data"
    },
    {
     "name": "stderr",
     "output_type": "stream",
     "text": [
      "WARNING - (NP.config.set_lr_finder_args) - Learning rate finder: The number of batches (16) is too small than the required number                     for the learning rate finder (219). The results might not be optimal.\n"
     ]
    },
    {
     "data": {
      "application/vnd.jupyter.widget-view+json": {
       "model_id": "0d8b2e3eeb8045b68fdc1adcdf33bcb7",
       "version_major": 2,
       "version_minor": 0
      },
      "text/plain": [
       "Finding best initial lr:   0%|          | 0/219 [00:00<?, ?it/s]"
      ]
     },
     "metadata": {},
     "output_type": "display_data"
    },
    {
     "data": {
      "application/vnd.jupyter.widget-view+json": {
       "model_id": "1f8a886ccdfb4e98873192002e40804e",
       "version_major": 2,
       "version_minor": 0
      },
      "text/plain": [
       "Training: |                                                                                                   …"
      ]
     },
     "metadata": {},
     "output_type": "display_data"
    },
    {
     "name": "stderr",
     "output_type": "stream",
     "text": [
      "INFO - (NP.df_utils._infer_frequency) - Major frequency MS corresponds to [99.794]% of the data.\n",
      "INFO - (NP.df_utils._infer_frequency) - Defined frequency is equal to major frequency - MS\n",
      "INFO - (NP.df_utils.return_df_in_original_format) - Returning df with no ID column\n",
      "INFO - (NP.df_utils._infer_frequency) - Major frequency MS corresponds to [95.833]% of the data.\n",
      "INFO - (NP.df_utils._infer_frequency) - Defined frequency is equal to major frequency - MS\n",
      "INFO - (NP.df_utils._infer_frequency) - Major frequency MS corresponds to [95.833]% of the data.\n",
      "INFO - (NP.df_utils._infer_frequency) - Defined frequency is equal to major frequency - MS\n"
     ]
    },
    {
     "data": {
      "application/vnd.jupyter.widget-view+json": {
       "model_id": "5205ddd53a204be9a5a0b33e72753c1e",
       "version_major": 2,
       "version_minor": 0
      },
      "text/plain": [
       "Predicting: |                                                                                                 …"
      ]
     },
     "metadata": {},
     "output_type": "display_data"
    },
    {
     "name": "stderr",
     "output_type": "stream",
     "text": [
      "INFO - (NP.df_utils.return_df_in_original_format) - Returning df with no ID column\n"
     ]
    }
   ],
   "source": [
    "category = 'Cafes_Restaurants_TakeAway'\n",
    "\n",
    "# Extract the data series from the Retail Turnover dataset\n",
    "category_df = sa_turnover_df[['Year-Month', category]]\n",
    "\n",
    "# Split the unscaled training and testing sets (useful for plots later)\n",
    "# Use a copy of the category data and reset the dataframe index to be the datetime column (makes for easier splitting)\n",
    "unscaled_df = category_df.copy()\n",
    "unscaled_df.reset_index(inplace=True, drop=True)\n",
    "unscaled_df = unscaled_df.set_index(['Year-Month'])\n",
    "\n",
    "train = unscaled_df[unscaled_df.index < forecast_from_date]\n",
    "test = unscaled_df[unscaled_df.index >= forecast_from_date]\n",
    "\n",
    "# Scale (normalise) the data series.\n",
    "# Use a copy of the category data and reset the dataframe index to be the datetime column (makes for easier splitting)\n",
    "scaled_df = category_df.copy()\n",
    "\n",
    "# Scaling has to be done as a whole series, otherwise train and test splits would be normalised separately.\n",
    "scaled_df[category] = min_max_scaler.fit_transform(pd.DataFrame(scaled_df[category]))\n",
    "\n",
    "# Splitting the scaled data into training and testing sets\n",
    "scaled_train = scaled_df[scaled_df['Year-Month'] < forecast_from_date]\n",
    "scaled_test = scaled_df[scaled_df['Year-Month'] >= forecast_from_date]\n",
    "\n",
    "# Prepare training and testing data in input format required by NeuralProphet\n",
    "np_train = scaled_train[['Year-Month', category]].rename(columns={'Year-Month': 'ds', category: 'y'})\n",
    "np_test  =  scaled_test[['Year-Month', category]].rename(columns={'Year-Month': 'ds', category: 'y'})\n",
    "\n",
    "# Create and train NeuralProphet model\n",
    "np_model = NeuralProphet()\n",
    "metrics = np_model.fit(np_train, freq='MS', epochs=epochs)\n",
    "\n",
    "# Create a blank 'future' dataframe to hold the NeuralProphet predictions for our forecast period\n",
    "np_future_df = np_model.make_future_dataframe(np_train, periods=len(np_test))\n",
    "\n",
    "# Calculate the forecast (predictions)\n",
    "forecast = np_model.predict(np_future_df)\n",
    "\n",
    "# Prepare unscaled prediction results\n",
    "np_forecast_df = forecast[['ds','yhat1']]\n",
    "np_forecast_df['yhat1'] = min_max_scaler.inverse_transform(pd.DataFrame(pd.DataFrame(np_forecast_df['yhat1'])))\n",
    "np_forecast_df = np_forecast_df.set_index(['ds'])\n",
    "\n",
    "# Create new dataframe for plotting train/test results\n",
    "y_pred_np_df = np_test.copy()\n",
    "y_pred_np_df = y_pred_np_df.set_index(['ds'])\n",
    "y_pred_np_df = pd.concat([y_pred_np_df, np_forecast_df], axis=1)\n",
    "\n",
    "# Calculate and save model performance results\n",
    "\n",
    "# Calculate RMSE and R-squared for NeuralProphet \n",
    "rmse_np = np.sqrt(mean_squared_error(test[category].values, y_pred_np_df['yhat1']))\n",
    "rsqd_np = r2_score(test[category].values, y_pred_np_df['yhat1'])\n",
    "results_np_df[category] = [rmse_np, rsqd_np]\n"
   ]
  },
  {
   "cell_type": "markdown",
   "id": "f0c0fde7",
   "metadata": {},
   "source": [
    "### NeuralProphet - summarise model performance for all Turnover categories"
   ]
  },
  {
   "cell_type": "code",
   "execution_count": 78,
   "id": "14979599",
   "metadata": {},
   "outputs": [
    {
     "data": {
      "text/html": [
       "<div>\n",
       "<style scoped>\n",
       "    .dataframe tbody tr th:only-of-type {\n",
       "        vertical-align: middle;\n",
       "    }\n",
       "\n",
       "    .dataframe tbody tr th {\n",
       "        vertical-align: top;\n",
       "    }\n",
       "\n",
       "    .dataframe thead th {\n",
       "        text-align: right;\n",
       "    }\n",
       "</style>\n",
       "<table border=\"1\" class=\"dataframe\">\n",
       "  <thead>\n",
       "    <tr style=\"text-align: right;\">\n",
       "      <th>Category</th>\n",
       "      <th>Food</th>\n",
       "      <th>Household_Goods</th>\n",
       "      <th>Clothing_and_Footware</th>\n",
       "      <th>Department_Stores</th>\n",
       "      <th>Other_Retailing</th>\n",
       "      <th>Cafes_Restaurants_TakeAway</th>\n",
       "    </tr>\n",
       "  </thead>\n",
       "  <tbody>\n",
       "    <tr>\n",
       "      <th>RMSE</th>\n",
       "      <td>602.736023</td>\n",
       "      <td>236.609438</td>\n",
       "      <td>433.562349</td>\n",
       "      <td>244.886751</td>\n",
       "      <td>493.045695</td>\n",
       "      <td>998.397975</td>\n",
       "    </tr>\n",
       "    <tr>\n",
       "      <th>R-squared</th>\n",
       "      <td>-5.620730</td>\n",
       "      <td>-2.133365</td>\n",
       "      <td>-89.243405</td>\n",
       "      <td>-42.107966</td>\n",
       "      <td>-16.683910</td>\n",
       "      <td>-109.488142</td>\n",
       "    </tr>\n",
       "  </tbody>\n",
       "</table>\n",
       "</div>"
      ],
      "text/plain": [
       "Category         Food  Household_Goods  Clothing_and_Footware  \\\n",
       "RMSE       602.736023       236.609438             433.562349   \n",
       "R-squared   -5.620730        -2.133365             -89.243405   \n",
       "\n",
       "Category   Department_Stores  Other_Retailing  Cafes_Restaurants_TakeAway  \n",
       "RMSE              244.886751       493.045695                  998.397975  \n",
       "R-squared         -42.107966       -16.683910                 -109.488142  "
      ]
     },
     "execution_count": 78,
     "metadata": {},
     "output_type": "execute_result"
    }
   ],
   "source": [
    "results_np_df"
   ]
  },
  {
   "cell_type": "markdown",
   "id": "800e3a86",
   "metadata": {},
   "source": [
    "# Summarise Model Performance by Retail Turnover category - tables"
   ]
  },
  {
   "cell_type": "markdown",
   "id": "e3838a69",
   "metadata": {},
   "source": [
    "### ARMA"
   ]
  },
  {
   "cell_type": "code",
   "execution_count": 80,
   "id": "d65e83ff",
   "metadata": {},
   "outputs": [
    {
     "data": {
      "text/html": [
       "<div>\n",
       "<style scoped>\n",
       "    .dataframe tbody tr th:only-of-type {\n",
       "        vertical-align: middle;\n",
       "    }\n",
       "\n",
       "    .dataframe tbody tr th {\n",
       "        vertical-align: top;\n",
       "    }\n",
       "\n",
       "    .dataframe thead th {\n",
       "        text-align: right;\n",
       "    }\n",
       "</style>\n",
       "<table border=\"1\" class=\"dataframe\">\n",
       "  <thead>\n",
       "    <tr style=\"text-align: right;\">\n",
       "      <th>Category</th>\n",
       "      <th>Food</th>\n",
       "      <th>Household_Goods</th>\n",
       "      <th>Clothing_and_Footware</th>\n",
       "      <th>Department_Stores</th>\n",
       "      <th>Other_Retailing</th>\n",
       "      <th>Cafes_Restaurants_TakeAway</th>\n",
       "    </tr>\n",
       "  </thead>\n",
       "  <tbody>\n",
       "    <tr>\n",
       "      <th>RMSE</th>\n",
       "      <td>772.989309</td>\n",
       "      <td>292.595682</td>\n",
       "      <td>125.613863</td>\n",
       "      <td>46.045513</td>\n",
       "      <td>138.062098</td>\n",
       "      <td>338.316832</td>\n",
       "    </tr>\n",
       "    <tr>\n",
       "      <th>R-squared</th>\n",
       "      <td>-9.889264</td>\n",
       "      <td>-3.791624</td>\n",
       "      <td>-6.575085</td>\n",
       "      <td>-0.524058</td>\n",
       "      <td>-0.386605</td>\n",
       "      <td>-11.686900</td>\n",
       "    </tr>\n",
       "  </tbody>\n",
       "</table>\n",
       "</div>"
      ],
      "text/plain": [
       "Category         Food  Household_Goods  Clothing_and_Footware  \\\n",
       "RMSE       772.989309       292.595682             125.613863   \n",
       "R-squared   -9.889264        -3.791624              -6.575085   \n",
       "\n",
       "Category   Department_Stores  Other_Retailing  Cafes_Restaurants_TakeAway  \n",
       "RMSE               46.045513       138.062098                  338.316832  \n",
       "R-squared          -0.524058        -0.386605                  -11.686900  "
      ]
     },
     "execution_count": 80,
     "metadata": {},
     "output_type": "execute_result"
    }
   ],
   "source": [
    "results_arma_df"
   ]
  },
  {
   "cell_type": "markdown",
   "id": "9bc1b5f1",
   "metadata": {},
   "source": [
    "### ARIMA"
   ]
  },
  {
   "cell_type": "code",
   "execution_count": 81,
   "id": "5bf9e9a9",
   "metadata": {},
   "outputs": [
    {
     "data": {
      "text/html": [
       "<div>\n",
       "<style scoped>\n",
       "    .dataframe tbody tr th:only-of-type {\n",
       "        vertical-align: middle;\n",
       "    }\n",
       "\n",
       "    .dataframe tbody tr th {\n",
       "        vertical-align: top;\n",
       "    }\n",
       "\n",
       "    .dataframe thead th {\n",
       "        text-align: right;\n",
       "    }\n",
       "</style>\n",
       "<table border=\"1\" class=\"dataframe\">\n",
       "  <thead>\n",
       "    <tr style=\"text-align: right;\">\n",
       "      <th>Category</th>\n",
       "      <th>Food</th>\n",
       "      <th>Household_Goods</th>\n",
       "      <th>Clothing_and_Footware</th>\n",
       "      <th>Department_Stores</th>\n",
       "      <th>Other_Retailing</th>\n",
       "      <th>Cafes_Restaurants_TakeAway</th>\n",
       "    </tr>\n",
       "  </thead>\n",
       "  <tbody>\n",
       "    <tr>\n",
       "      <th>RMSE</th>\n",
       "      <td>187.362941</td>\n",
       "      <td>511.476138</td>\n",
       "      <td>71.555975</td>\n",
       "      <td>53.478189</td>\n",
       "      <td>359.990876</td>\n",
       "      <td>164.790027</td>\n",
       "    </tr>\n",
       "    <tr>\n",
       "      <th>R-squared</th>\n",
       "      <td>0.360237</td>\n",
       "      <td>-13.641907</td>\n",
       "      <td>-1.458126</td>\n",
       "      <td>-1.055798</td>\n",
       "      <td>-8.427291</td>\n",
       "      <td>-2.010025</td>\n",
       "    </tr>\n",
       "  </tbody>\n",
       "</table>\n",
       "</div>"
      ],
      "text/plain": [
       "Category         Food  Household_Goods  Clothing_and_Footware  \\\n",
       "RMSE       187.362941       511.476138              71.555975   \n",
       "R-squared    0.360237       -13.641907              -1.458126   \n",
       "\n",
       "Category   Department_Stores  Other_Retailing  Cafes_Restaurants_TakeAway  \n",
       "RMSE               53.478189       359.990876                  164.790027  \n",
       "R-squared          -1.055798        -8.427291                   -2.010025  "
      ]
     },
     "execution_count": 81,
     "metadata": {},
     "output_type": "execute_result"
    }
   ],
   "source": [
    "results_arima_df"
   ]
  },
  {
   "cell_type": "markdown",
   "id": "46cabd23",
   "metadata": {},
   "source": [
    "### NeuralProphet"
   ]
  },
  {
   "cell_type": "code",
   "execution_count": 82,
   "id": "40e42e23",
   "metadata": {},
   "outputs": [
    {
     "data": {
      "text/html": [
       "<div>\n",
       "<style scoped>\n",
       "    .dataframe tbody tr th:only-of-type {\n",
       "        vertical-align: middle;\n",
       "    }\n",
       "\n",
       "    .dataframe tbody tr th {\n",
       "        vertical-align: top;\n",
       "    }\n",
       "\n",
       "    .dataframe thead th {\n",
       "        text-align: right;\n",
       "    }\n",
       "</style>\n",
       "<table border=\"1\" class=\"dataframe\">\n",
       "  <thead>\n",
       "    <tr style=\"text-align: right;\">\n",
       "      <th>Category</th>\n",
       "      <th>Food</th>\n",
       "      <th>Household_Goods</th>\n",
       "      <th>Clothing_and_Footware</th>\n",
       "      <th>Department_Stores</th>\n",
       "      <th>Other_Retailing</th>\n",
       "      <th>Cafes_Restaurants_TakeAway</th>\n",
       "    </tr>\n",
       "  </thead>\n",
       "  <tbody>\n",
       "    <tr>\n",
       "      <th>RMSE</th>\n",
       "      <td>602.736023</td>\n",
       "      <td>236.609438</td>\n",
       "      <td>433.562349</td>\n",
       "      <td>244.886751</td>\n",
       "      <td>493.045695</td>\n",
       "      <td>998.397975</td>\n",
       "    </tr>\n",
       "    <tr>\n",
       "      <th>R-squared</th>\n",
       "      <td>-5.620730</td>\n",
       "      <td>-2.133365</td>\n",
       "      <td>-89.243405</td>\n",
       "      <td>-42.107966</td>\n",
       "      <td>-16.683910</td>\n",
       "      <td>-109.488142</td>\n",
       "    </tr>\n",
       "  </tbody>\n",
       "</table>\n",
       "</div>"
      ],
      "text/plain": [
       "Category         Food  Household_Goods  Clothing_and_Footware  \\\n",
       "RMSE       602.736023       236.609438             433.562349   \n",
       "R-squared   -5.620730        -2.133365             -89.243405   \n",
       "\n",
       "Category   Department_Stores  Other_Retailing  Cafes_Restaurants_TakeAway  \n",
       "RMSE              244.886751       493.045695                  998.397975  \n",
       "R-squared         -42.107966       -16.683910                 -109.488142  "
      ]
     },
     "execution_count": 82,
     "metadata": {},
     "output_type": "execute_result"
    }
   ],
   "source": [
    "results_np_df"
   ]
  }
 ],
 "metadata": {
  "kernelspec": {
   "display_name": "Python 3 (ipykernel)",
   "language": "python",
   "name": "python3"
  },
  "language_info": {
   "codemirror_mode": {
    "name": "ipython",
    "version": 3
   },
   "file_extension": ".py",
   "mimetype": "text/x-python",
   "name": "python",
   "nbconvert_exporter": "python",
   "pygments_lexer": "ipython3",
   "version": "3.10.14"
  }
 },
 "nbformat": 4,
 "nbformat_minor": 5
}
